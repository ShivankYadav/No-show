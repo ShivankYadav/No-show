{
 "cells": [
  {
   "cell_type": "markdown",
   "metadata": {},
   "source": [
    "\n",
    "# Project: Investigate No-show appointments data.\n",
    "\n",
    "## Table of Contents\n",
    "<ul>\n",
    "<li><a href=\"#intro\">Introduction</a></li>\n",
    "<li><a href=\"#wrangling\">Data Wrangling</a></li>\n",
    "<li><a href=\"#eda\">Exploratory Data Analysis</a></li>\n",
    "<li><a href=\"#conclusions\">Conclusions</a></li>\n",
    "</ul>"
   ]
  },
  {
   "cell_type": "markdown",
   "metadata": {},
   "source": [
    "<a id='intro'></a>\n",
    "## Introduction\n",
    "\n",
    ">This dataset collects information\n",
    "from 100k medical appointments in\n",
    "Brazil and is focused on the question\n",
    "of whether or not patients show up\n",
    "for their appointment. A number of\n",
    "characteristics about the patient are\n",
    "included in each row.\n",
    "\n",
    ">1. ScheduledDay column is the date and time of when the appointment is scheduled\n",
    ">2. AppointmentDay is the date and time of the appointment made.\n",
    ">3. Gender, and Age are of the patients.\n",
    ">4. Neighbourhood is of the hospital where the appointment is made.\n",
    ">5. SMS_received indicates whether an SMS message was sent to the patient to remind them of the appointment\n",
    ">6. Hypertension, Diabetes and Alcoholism are what their names indicate respectively. \n",
    ">7. Handicap column contains a integer ranging from 0 to 4, indicating the number of handicaps the patient is suffering from.\n",
    ">8. No_show column takes string values of either 'Yes' or 'No'. A 'Yes' indicates the patient DID NOT show up for the appointment.\n",
    ">9. AppointmentID. As each row represents one appointment, the appointment_ID values should be unique.\n",
    ">10. PatientID is the ID of the every patient.\n",
    "\n",
    ">***Questions asked***\n",
    ">>Is there any correlation between gender and appointments?\n",
    ">>Is there a trend in appointments made with respect to age of the patient?\n",
    ">>What proportion of people did not show up for appointment?\n",
    ">>what factors are\n",
    "important for us to know in order to\n",
    "predict if a patient will\n",
    "show up for their\n",
    "scheduled\n",
    "appointment?"
   ]
  },
  {
   "cell_type": "code",
   "execution_count": 1,
   "metadata": {
    "collapsed": true
   },
   "outputs": [],
   "source": [
    "# This cell is to set up import statements for all of the packages that we\n",
    "#   plan to use.\n",
    "import pandas as pd\n",
    "import numpy as np\n",
    "import matplotlib.pyplot as plt\n",
    "% matplotlib inline\n",
    "# Remember to include a 'magic word' so that your visualizations are plotted\n",
    "#   inline with the notebook. See this page for more:\n",
    "#   http://ipython.readthedocs.io/en/stable/interactive/magics.html\n"
   ]
  },
  {
   "cell_type": "markdown",
   "metadata": {},
   "source": [
    "<a id='wrangling'></a>\n",
    "## Data Wrangling\n",
    "\n",
    "\n",
    "### General Properties"
   ]
  },
  {
   "cell_type": "code",
   "execution_count": 3,
   "metadata": {
    "scrolled": false
   },
   "outputs": [
    {
     "data": {
      "text/html": [
       "<div>\n",
       "<style scoped>\n",
       "    .dataframe tbody tr th:only-of-type {\n",
       "        vertical-align: middle;\n",
       "    }\n",
       "\n",
       "    .dataframe tbody tr th {\n",
       "        vertical-align: top;\n",
       "    }\n",
       "\n",
       "    .dataframe thead th {\n",
       "        text-align: right;\n",
       "    }\n",
       "</style>\n",
       "<table border=\"1\" class=\"dataframe\">\n",
       "  <thead>\n",
       "    <tr style=\"text-align: right;\">\n",
       "      <th></th>\n",
       "      <th>PatientId</th>\n",
       "      <th>AppointmentID</th>\n",
       "      <th>Gender</th>\n",
       "      <th>ScheduledDay</th>\n",
       "      <th>AppointmentDay</th>\n",
       "      <th>Age</th>\n",
       "      <th>Neighbourhood</th>\n",
       "      <th>Scholarship</th>\n",
       "      <th>Hipertension</th>\n",
       "      <th>Diabetes</th>\n",
       "      <th>Alcoholism</th>\n",
       "      <th>Handcap</th>\n",
       "      <th>SMS_received</th>\n",
       "      <th>No-show</th>\n",
       "    </tr>\n",
       "  </thead>\n",
       "  <tbody>\n",
       "    <tr>\n",
       "      <th>0</th>\n",
       "      <td>2.987250e+13</td>\n",
       "      <td>5642903</td>\n",
       "      <td>F</td>\n",
       "      <td>2016-04-29T18:38:08Z</td>\n",
       "      <td>2016-04-29T00:00:00Z</td>\n",
       "      <td>62</td>\n",
       "      <td>JARDIM DA PENHA</td>\n",
       "      <td>0</td>\n",
       "      <td>1</td>\n",
       "      <td>0</td>\n",
       "      <td>0</td>\n",
       "      <td>0</td>\n",
       "      <td>0</td>\n",
       "      <td>No</td>\n",
       "    </tr>\n",
       "    <tr>\n",
       "      <th>1</th>\n",
       "      <td>5.589978e+14</td>\n",
       "      <td>5642503</td>\n",
       "      <td>M</td>\n",
       "      <td>2016-04-29T16:08:27Z</td>\n",
       "      <td>2016-04-29T00:00:00Z</td>\n",
       "      <td>56</td>\n",
       "      <td>JARDIM DA PENHA</td>\n",
       "      <td>0</td>\n",
       "      <td>0</td>\n",
       "      <td>0</td>\n",
       "      <td>0</td>\n",
       "      <td>0</td>\n",
       "      <td>0</td>\n",
       "      <td>No</td>\n",
       "    </tr>\n",
       "    <tr>\n",
       "      <th>2</th>\n",
       "      <td>4.262962e+12</td>\n",
       "      <td>5642549</td>\n",
       "      <td>F</td>\n",
       "      <td>2016-04-29T16:19:04Z</td>\n",
       "      <td>2016-04-29T00:00:00Z</td>\n",
       "      <td>62</td>\n",
       "      <td>MATA DA PRAIA</td>\n",
       "      <td>0</td>\n",
       "      <td>0</td>\n",
       "      <td>0</td>\n",
       "      <td>0</td>\n",
       "      <td>0</td>\n",
       "      <td>0</td>\n",
       "      <td>No</td>\n",
       "    </tr>\n",
       "    <tr>\n",
       "      <th>3</th>\n",
       "      <td>8.679512e+11</td>\n",
       "      <td>5642828</td>\n",
       "      <td>F</td>\n",
       "      <td>2016-04-29T17:29:31Z</td>\n",
       "      <td>2016-04-29T00:00:00Z</td>\n",
       "      <td>8</td>\n",
       "      <td>PONTAL DE CAMBURI</td>\n",
       "      <td>0</td>\n",
       "      <td>0</td>\n",
       "      <td>0</td>\n",
       "      <td>0</td>\n",
       "      <td>0</td>\n",
       "      <td>0</td>\n",
       "      <td>No</td>\n",
       "    </tr>\n",
       "    <tr>\n",
       "      <th>4</th>\n",
       "      <td>8.841186e+12</td>\n",
       "      <td>5642494</td>\n",
       "      <td>F</td>\n",
       "      <td>2016-04-29T16:07:23Z</td>\n",
       "      <td>2016-04-29T00:00:00Z</td>\n",
       "      <td>56</td>\n",
       "      <td>JARDIM DA PENHA</td>\n",
       "      <td>0</td>\n",
       "      <td>1</td>\n",
       "      <td>1</td>\n",
       "      <td>0</td>\n",
       "      <td>0</td>\n",
       "      <td>0</td>\n",
       "      <td>No</td>\n",
       "    </tr>\n",
       "    <tr>\n",
       "      <th>5</th>\n",
       "      <td>9.598513e+13</td>\n",
       "      <td>5626772</td>\n",
       "      <td>F</td>\n",
       "      <td>2016-04-27T08:36:51Z</td>\n",
       "      <td>2016-04-29T00:00:00Z</td>\n",
       "      <td>76</td>\n",
       "      <td>REPÚBLICA</td>\n",
       "      <td>0</td>\n",
       "      <td>1</td>\n",
       "      <td>0</td>\n",
       "      <td>0</td>\n",
       "      <td>0</td>\n",
       "      <td>0</td>\n",
       "      <td>No</td>\n",
       "    </tr>\n",
       "    <tr>\n",
       "      <th>6</th>\n",
       "      <td>7.336882e+14</td>\n",
       "      <td>5630279</td>\n",
       "      <td>F</td>\n",
       "      <td>2016-04-27T15:05:12Z</td>\n",
       "      <td>2016-04-29T00:00:00Z</td>\n",
       "      <td>23</td>\n",
       "      <td>GOIABEIRAS</td>\n",
       "      <td>0</td>\n",
       "      <td>0</td>\n",
       "      <td>0</td>\n",
       "      <td>0</td>\n",
       "      <td>0</td>\n",
       "      <td>0</td>\n",
       "      <td>Yes</td>\n",
       "    </tr>\n",
       "    <tr>\n",
       "      <th>7</th>\n",
       "      <td>3.449833e+12</td>\n",
       "      <td>5630575</td>\n",
       "      <td>F</td>\n",
       "      <td>2016-04-27T15:39:58Z</td>\n",
       "      <td>2016-04-29T00:00:00Z</td>\n",
       "      <td>39</td>\n",
       "      <td>GOIABEIRAS</td>\n",
       "      <td>0</td>\n",
       "      <td>0</td>\n",
       "      <td>0</td>\n",
       "      <td>0</td>\n",
       "      <td>0</td>\n",
       "      <td>0</td>\n",
       "      <td>Yes</td>\n",
       "    </tr>\n",
       "    <tr>\n",
       "      <th>8</th>\n",
       "      <td>5.639473e+13</td>\n",
       "      <td>5638447</td>\n",
       "      <td>F</td>\n",
       "      <td>2016-04-29T08:02:16Z</td>\n",
       "      <td>2016-04-29T00:00:00Z</td>\n",
       "      <td>21</td>\n",
       "      <td>ANDORINHAS</td>\n",
       "      <td>0</td>\n",
       "      <td>0</td>\n",
       "      <td>0</td>\n",
       "      <td>0</td>\n",
       "      <td>0</td>\n",
       "      <td>0</td>\n",
       "      <td>No</td>\n",
       "    </tr>\n",
       "    <tr>\n",
       "      <th>9</th>\n",
       "      <td>7.812456e+13</td>\n",
       "      <td>5629123</td>\n",
       "      <td>F</td>\n",
       "      <td>2016-04-27T12:48:25Z</td>\n",
       "      <td>2016-04-29T00:00:00Z</td>\n",
       "      <td>19</td>\n",
       "      <td>CONQUISTA</td>\n",
       "      <td>0</td>\n",
       "      <td>0</td>\n",
       "      <td>0</td>\n",
       "      <td>0</td>\n",
       "      <td>0</td>\n",
       "      <td>0</td>\n",
       "      <td>No</td>\n",
       "    </tr>\n",
       "    <tr>\n",
       "      <th>10</th>\n",
       "      <td>7.345362e+14</td>\n",
       "      <td>5630213</td>\n",
       "      <td>F</td>\n",
       "      <td>2016-04-27T14:58:11Z</td>\n",
       "      <td>2016-04-29T00:00:00Z</td>\n",
       "      <td>30</td>\n",
       "      <td>NOVA PALESTINA</td>\n",
       "      <td>0</td>\n",
       "      <td>0</td>\n",
       "      <td>0</td>\n",
       "      <td>0</td>\n",
       "      <td>0</td>\n",
       "      <td>0</td>\n",
       "      <td>No</td>\n",
       "    </tr>\n",
       "    <tr>\n",
       "      <th>11</th>\n",
       "      <td>7.542951e+12</td>\n",
       "      <td>5620163</td>\n",
       "      <td>M</td>\n",
       "      <td>2016-04-26T08:44:12Z</td>\n",
       "      <td>2016-04-29T00:00:00Z</td>\n",
       "      <td>29</td>\n",
       "      <td>NOVA PALESTINA</td>\n",
       "      <td>0</td>\n",
       "      <td>0</td>\n",
       "      <td>0</td>\n",
       "      <td>0</td>\n",
       "      <td>0</td>\n",
       "      <td>1</td>\n",
       "      <td>Yes</td>\n",
       "    </tr>\n",
       "    <tr>\n",
       "      <th>12</th>\n",
       "      <td>5.666548e+14</td>\n",
       "      <td>5634718</td>\n",
       "      <td>F</td>\n",
       "      <td>2016-04-28T11:33:51Z</td>\n",
       "      <td>2016-04-29T00:00:00Z</td>\n",
       "      <td>22</td>\n",
       "      <td>NOVA PALESTINA</td>\n",
       "      <td>1</td>\n",
       "      <td>0</td>\n",
       "      <td>0</td>\n",
       "      <td>0</td>\n",
       "      <td>0</td>\n",
       "      <td>0</td>\n",
       "      <td>No</td>\n",
       "    </tr>\n",
       "    <tr>\n",
       "      <th>13</th>\n",
       "      <td>9.113946e+14</td>\n",
       "      <td>5636249</td>\n",
       "      <td>M</td>\n",
       "      <td>2016-04-28T14:52:07Z</td>\n",
       "      <td>2016-04-29T00:00:00Z</td>\n",
       "      <td>28</td>\n",
       "      <td>NOVA PALESTINA</td>\n",
       "      <td>0</td>\n",
       "      <td>0</td>\n",
       "      <td>0</td>\n",
       "      <td>0</td>\n",
       "      <td>0</td>\n",
       "      <td>0</td>\n",
       "      <td>No</td>\n",
       "    </tr>\n",
       "    <tr>\n",
       "      <th>14</th>\n",
       "      <td>9.988472e+13</td>\n",
       "      <td>5633951</td>\n",
       "      <td>F</td>\n",
       "      <td>2016-04-28T10:06:24Z</td>\n",
       "      <td>2016-04-29T00:00:00Z</td>\n",
       "      <td>54</td>\n",
       "      <td>NOVA PALESTINA</td>\n",
       "      <td>0</td>\n",
       "      <td>0</td>\n",
       "      <td>0</td>\n",
       "      <td>0</td>\n",
       "      <td>0</td>\n",
       "      <td>0</td>\n",
       "      <td>No</td>\n",
       "    </tr>\n",
       "    <tr>\n",
       "      <th>15</th>\n",
       "      <td>9.994839e+10</td>\n",
       "      <td>5620206</td>\n",
       "      <td>F</td>\n",
       "      <td>2016-04-26T08:47:27Z</td>\n",
       "      <td>2016-04-29T00:00:00Z</td>\n",
       "      <td>15</td>\n",
       "      <td>NOVA PALESTINA</td>\n",
       "      <td>0</td>\n",
       "      <td>0</td>\n",
       "      <td>0</td>\n",
       "      <td>0</td>\n",
       "      <td>0</td>\n",
       "      <td>1</td>\n",
       "      <td>No</td>\n",
       "    </tr>\n",
       "    <tr>\n",
       "      <th>16</th>\n",
       "      <td>8.457439e+13</td>\n",
       "      <td>5633121</td>\n",
       "      <td>M</td>\n",
       "      <td>2016-04-28T08:51:47Z</td>\n",
       "      <td>2016-04-29T00:00:00Z</td>\n",
       "      <td>50</td>\n",
       "      <td>NOVA PALESTINA</td>\n",
       "      <td>0</td>\n",
       "      <td>0</td>\n",
       "      <td>0</td>\n",
       "      <td>0</td>\n",
       "      <td>0</td>\n",
       "      <td>0</td>\n",
       "      <td>No</td>\n",
       "    </tr>\n",
       "    <tr>\n",
       "      <th>17</th>\n",
       "      <td>1.479497e+13</td>\n",
       "      <td>5633460</td>\n",
       "      <td>F</td>\n",
       "      <td>2016-04-28T09:28:57Z</td>\n",
       "      <td>2016-04-29T00:00:00Z</td>\n",
       "      <td>40</td>\n",
       "      <td>CONQUISTA</td>\n",
       "      <td>1</td>\n",
       "      <td>0</td>\n",
       "      <td>0</td>\n",
       "      <td>0</td>\n",
       "      <td>0</td>\n",
       "      <td>0</td>\n",
       "      <td>Yes</td>\n",
       "    </tr>\n",
       "    <tr>\n",
       "      <th>18</th>\n",
       "      <td>1.713538e+13</td>\n",
       "      <td>5621836</td>\n",
       "      <td>F</td>\n",
       "      <td>2016-04-26T10:54:18Z</td>\n",
       "      <td>2016-04-29T00:00:00Z</td>\n",
       "      <td>30</td>\n",
       "      <td>NOVA PALESTINA</td>\n",
       "      <td>1</td>\n",
       "      <td>0</td>\n",
       "      <td>0</td>\n",
       "      <td>0</td>\n",
       "      <td>0</td>\n",
       "      <td>1</td>\n",
       "      <td>No</td>\n",
       "    </tr>\n",
       "    <tr>\n",
       "      <th>19</th>\n",
       "      <td>7.223289e+12</td>\n",
       "      <td>5640433</td>\n",
       "      <td>F</td>\n",
       "      <td>2016-04-29T10:43:14Z</td>\n",
       "      <td>2016-04-29T00:00:00Z</td>\n",
       "      <td>46</td>\n",
       "      <td>DA PENHA</td>\n",
       "      <td>0</td>\n",
       "      <td>0</td>\n",
       "      <td>0</td>\n",
       "      <td>0</td>\n",
       "      <td>0</td>\n",
       "      <td>0</td>\n",
       "      <td>No</td>\n",
       "    </tr>\n",
       "  </tbody>\n",
       "</table>\n",
       "</div>"
      ],
      "text/plain": [
       "       PatientId  AppointmentID Gender          ScheduledDay  \\\n",
       "0   2.987250e+13        5642903      F  2016-04-29T18:38:08Z   \n",
       "1   5.589978e+14        5642503      M  2016-04-29T16:08:27Z   \n",
       "2   4.262962e+12        5642549      F  2016-04-29T16:19:04Z   \n",
       "3   8.679512e+11        5642828      F  2016-04-29T17:29:31Z   \n",
       "4   8.841186e+12        5642494      F  2016-04-29T16:07:23Z   \n",
       "5   9.598513e+13        5626772      F  2016-04-27T08:36:51Z   \n",
       "6   7.336882e+14        5630279      F  2016-04-27T15:05:12Z   \n",
       "7   3.449833e+12        5630575      F  2016-04-27T15:39:58Z   \n",
       "8   5.639473e+13        5638447      F  2016-04-29T08:02:16Z   \n",
       "9   7.812456e+13        5629123      F  2016-04-27T12:48:25Z   \n",
       "10  7.345362e+14        5630213      F  2016-04-27T14:58:11Z   \n",
       "11  7.542951e+12        5620163      M  2016-04-26T08:44:12Z   \n",
       "12  5.666548e+14        5634718      F  2016-04-28T11:33:51Z   \n",
       "13  9.113946e+14        5636249      M  2016-04-28T14:52:07Z   \n",
       "14  9.988472e+13        5633951      F  2016-04-28T10:06:24Z   \n",
       "15  9.994839e+10        5620206      F  2016-04-26T08:47:27Z   \n",
       "16  8.457439e+13        5633121      M  2016-04-28T08:51:47Z   \n",
       "17  1.479497e+13        5633460      F  2016-04-28T09:28:57Z   \n",
       "18  1.713538e+13        5621836      F  2016-04-26T10:54:18Z   \n",
       "19  7.223289e+12        5640433      F  2016-04-29T10:43:14Z   \n",
       "\n",
       "          AppointmentDay  Age      Neighbourhood  Scholarship  Hipertension  \\\n",
       "0   2016-04-29T00:00:00Z   62    JARDIM DA PENHA            0             1   \n",
       "1   2016-04-29T00:00:00Z   56    JARDIM DA PENHA            0             0   \n",
       "2   2016-04-29T00:00:00Z   62      MATA DA PRAIA            0             0   \n",
       "3   2016-04-29T00:00:00Z    8  PONTAL DE CAMBURI            0             0   \n",
       "4   2016-04-29T00:00:00Z   56    JARDIM DA PENHA            0             1   \n",
       "5   2016-04-29T00:00:00Z   76          REPÚBLICA            0             1   \n",
       "6   2016-04-29T00:00:00Z   23         GOIABEIRAS            0             0   \n",
       "7   2016-04-29T00:00:00Z   39         GOIABEIRAS            0             0   \n",
       "8   2016-04-29T00:00:00Z   21         ANDORINHAS            0             0   \n",
       "9   2016-04-29T00:00:00Z   19          CONQUISTA            0             0   \n",
       "10  2016-04-29T00:00:00Z   30     NOVA PALESTINA            0             0   \n",
       "11  2016-04-29T00:00:00Z   29     NOVA PALESTINA            0             0   \n",
       "12  2016-04-29T00:00:00Z   22     NOVA PALESTINA            1             0   \n",
       "13  2016-04-29T00:00:00Z   28     NOVA PALESTINA            0             0   \n",
       "14  2016-04-29T00:00:00Z   54     NOVA PALESTINA            0             0   \n",
       "15  2016-04-29T00:00:00Z   15     NOVA PALESTINA            0             0   \n",
       "16  2016-04-29T00:00:00Z   50     NOVA PALESTINA            0             0   \n",
       "17  2016-04-29T00:00:00Z   40          CONQUISTA            1             0   \n",
       "18  2016-04-29T00:00:00Z   30     NOVA PALESTINA            1             0   \n",
       "19  2016-04-29T00:00:00Z   46           DA PENHA            0             0   \n",
       "\n",
       "    Diabetes  Alcoholism  Handcap  SMS_received No-show  \n",
       "0          0           0        0             0      No  \n",
       "1          0           0        0             0      No  \n",
       "2          0           0        0             0      No  \n",
       "3          0           0        0             0      No  \n",
       "4          1           0        0             0      No  \n",
       "5          0           0        0             0      No  \n",
       "6          0           0        0             0     Yes  \n",
       "7          0           0        0             0     Yes  \n",
       "8          0           0        0             0      No  \n",
       "9          0           0        0             0      No  \n",
       "10         0           0        0             0      No  \n",
       "11         0           0        0             1     Yes  \n",
       "12         0           0        0             0      No  \n",
       "13         0           0        0             0      No  \n",
       "14         0           0        0             0      No  \n",
       "15         0           0        0             1      No  \n",
       "16         0           0        0             0      No  \n",
       "17         0           0        0             0     Yes  \n",
       "18         0           0        0             1      No  \n",
       "19         0           0        0             0      No  "
      ]
     },
     "execution_count": 3,
     "metadata": {},
     "output_type": "execute_result"
    }
   ],
   "source": [
    "# Load your data and print out a few lines. Perform operations to inspect data\n",
    "#   types and look for instances of missing or possibly errant data.\n",
    "df= pd.read_csv('noshowappointments-kagglev2-may-2016.csv')\n",
    "df.head(20)"
   ]
  },
  {
   "cell_type": "markdown",
   "metadata": {},
   "source": [
    "## Assessing Data"
   ]
  },
  {
   "cell_type": "code",
   "execution_count": 4,
   "metadata": {},
   "outputs": [
    {
     "name": "stdout",
     "output_type": "stream",
     "text": [
      "<class 'pandas.core.frame.DataFrame'>\n",
      "RangeIndex: 110527 entries, 0 to 110526\n",
      "Data columns (total 14 columns):\n",
      "PatientId         110527 non-null float64\n",
      "AppointmentID     110527 non-null int64\n",
      "Gender            110527 non-null object\n",
      "ScheduledDay      110527 non-null object\n",
      "AppointmentDay    110527 non-null object\n",
      "Age               110527 non-null int64\n",
      "Neighbourhood     110527 non-null object\n",
      "Scholarship       110527 non-null int64\n",
      "Hipertension      110527 non-null int64\n",
      "Diabetes          110527 non-null int64\n",
      "Alcoholism        110527 non-null int64\n",
      "Handcap           110527 non-null int64\n",
      "SMS_received      110527 non-null int64\n",
      "No-show           110527 non-null object\n",
      "dtypes: float64(1), int64(8), object(5)\n",
      "memory usage: 11.8+ MB\n",
      "None\n",
      "\n",
      "          PatientId  AppointmentID            Age    Scholarship  \\\n",
      "count  1.105270e+05   1.105270e+05  110527.000000  110527.000000   \n",
      "mean   1.474963e+14   5.675305e+06      37.088874       0.098266   \n",
      "std    2.560949e+14   7.129575e+04      23.110205       0.297675   \n",
      "min    3.921784e+04   5.030230e+06      -1.000000       0.000000   \n",
      "25%    4.172614e+12   5.640286e+06      18.000000       0.000000   \n",
      "50%    3.173184e+13   5.680573e+06      37.000000       0.000000   \n",
      "75%    9.439172e+13   5.725524e+06      55.000000       0.000000   \n",
      "max    9.999816e+14   5.790484e+06     115.000000       1.000000   \n",
      "\n",
      "        Hipertension       Diabetes     Alcoholism        Handcap  \\\n",
      "count  110527.000000  110527.000000  110527.000000  110527.000000   \n",
      "mean        0.197246       0.071865       0.030400       0.022248   \n",
      "std         0.397921       0.258265       0.171686       0.161543   \n",
      "min         0.000000       0.000000       0.000000       0.000000   \n",
      "25%         0.000000       0.000000       0.000000       0.000000   \n",
      "50%         0.000000       0.000000       0.000000       0.000000   \n",
      "75%         0.000000       0.000000       0.000000       0.000000   \n",
      "max         1.000000       1.000000       1.000000       4.000000   \n",
      "\n",
      "        SMS_received  \n",
      "count  110527.000000  \n",
      "mean        0.321026  \n",
      "std         0.466873  \n",
      "min         0.000000  \n",
      "25%         0.000000  \n",
      "50%         0.000000  \n",
      "75%         1.000000  \n",
      "max         1.000000  \n"
     ]
    }
   ],
   "source": [
    "print(df.info())\n",
    "print()\n",
    "print(df.describe())"
   ]
  },
  {
   "cell_type": "code",
   "execution_count": 5,
   "metadata": {},
   "outputs": [
    {
     "name": "stdout",
     "output_type": "stream",
     "text": [
      "(110527, 14)\n",
      "\n",
      "Columns with missing values\n",
      "PatientId         0\n",
      "AppointmentID     0\n",
      "Gender            0\n",
      "ScheduledDay      0\n",
      "AppointmentDay    0\n",
      "Age               0\n",
      "Neighbourhood     0\n",
      "Scholarship       0\n",
      "Hipertension      0\n",
      "Diabetes          0\n",
      "Alcoholism        0\n",
      "Handcap           0\n",
      "SMS_received      0\n",
      "No-show           0\n",
      "dtype: int64\n",
      "\n",
      "The number of duplicated rows in the data are 0\n",
      "\n",
      "Number of unique values in each feature:-\n",
      "PatientId          62299\n",
      "AppointmentID     110527\n",
      "Gender                 2\n",
      "ScheduledDay      103549\n",
      "AppointmentDay        27\n",
      "Age                  104\n",
      "Neighbourhood         81\n",
      "Scholarship            2\n",
      "Hipertension           2\n",
      "Diabetes               2\n",
      "Alcoholism             2\n",
      "Handcap                5\n",
      "SMS_received           2\n",
      "No-show                2\n",
      "dtype: int64\n"
     ]
    }
   ],
   "source": [
    "# Number of samples and Cloumns\n",
    "print(df.shape)\n",
    "print()\n",
    "# Features with Missing vlaues \n",
    "print('Columns with missing values')\n",
    "print(df.isnull().sum())\n",
    "print()\n",
    "# Diplicated rows\n",
    "print(\"The number of duplicated rows in the data are\",df.duplicated().sum())\n",
    "# Number of unique values in each feature\n",
    "print()\n",
    "print('Number of unique values in each feature:-')\n",
    "print(df.nunique())\n"
   ]
  },
  {
   "cell_type": "markdown",
   "metadata": {},
   "source": [
    "###### Results:-\n",
    "1. Rows - 110527, Columns - 14\n",
    "2. There are no features with missing values.\n",
    "3. There are no duplicated rows and also each appointment id is unique.\n",
    "4. The Patient id may not be unique since the same patient may be taking appointments multiple times. But the datatype of the column is float and upon looking the data we find that there are some fractional ids.\n",
    "5. The datatype of scheduled day and appointment day is string(object) insted of Datetype."
   ]
  },
  {
   "cell_type": "markdown",
   "metadata": {},
   "source": [
    "> **Tip**: You should _not_ perform too many operations in each cell. Create cells freely to explore your data. One option that you can take with this project is to do a lot of explorations in an initial notebook. These don't have to be organized, but make sure you use enough comments to understand the purpose of each code cell. Then, after you're done with your analysis, create a duplicate notebook where you will trim the excess and organize your steps so that you have a flowing, cohesive report.\n",
    "\n",
    "> **Tip**: Make sure that you keep your reader informed on the steps that you are taking in your investigation. Follow every code cell, or every set of related code cells, with a markdown cell to describe to the reader what was found in the preceding cell(s). Try to make it so that the reader can then understand what they will be seeing in the following cell(s).\n",
    "\n",
    "### Data Cleaning (Replace this with more specific notes!)"
   ]
  },
  {
   "cell_type": "code",
   "execution_count": 6,
   "metadata": {
    "collapsed": true
   },
   "outputs": [],
   "source": [
    "# After discussing the structure of the data and any problems that need to be\n",
    "#   cleaned, perform those cleaning steps in the second part of this section.\n"
   ]
  },
  {
   "cell_type": "markdown",
   "metadata": {},
   "source": [
    "For consistency and to reduce errors, columns will be renamed in snake_case. Handcap and Hipertension will have their spellings changed into handicap and hypertension respectively."
   ]
  },
  {
   "cell_type": "code",
   "execution_count": 7,
   "metadata": {},
   "outputs": [
    {
     "data": {
      "text/html": [
       "<div>\n",
       "<style scoped>\n",
       "    .dataframe tbody tr th:only-of-type {\n",
       "        vertical-align: middle;\n",
       "    }\n",
       "\n",
       "    .dataframe tbody tr th {\n",
       "        vertical-align: top;\n",
       "    }\n",
       "\n",
       "    .dataframe thead th {\n",
       "        text-align: right;\n",
       "    }\n",
       "</style>\n",
       "<table border=\"1\" class=\"dataframe\">\n",
       "  <thead>\n",
       "    <tr style=\"text-align: right;\">\n",
       "      <th></th>\n",
       "      <th>patient_ID</th>\n",
       "      <th>appointment_ID</th>\n",
       "      <th>gender</th>\n",
       "      <th>scheduled_day</th>\n",
       "      <th>appointment_day</th>\n",
       "      <th>age</th>\n",
       "      <th>neighbourhood</th>\n",
       "      <th>scholarship</th>\n",
       "      <th>hypertension</th>\n",
       "      <th>diabetes</th>\n",
       "      <th>alcoholism</th>\n",
       "      <th>handicap</th>\n",
       "      <th>SMS_received</th>\n",
       "      <th>no_show</th>\n",
       "    </tr>\n",
       "  </thead>\n",
       "  <tbody>\n",
       "    <tr>\n",
       "      <th>0</th>\n",
       "      <td>2.987250e+13</td>\n",
       "      <td>5642903</td>\n",
       "      <td>F</td>\n",
       "      <td>2016-04-29T18:38:08Z</td>\n",
       "      <td>2016-04-29T00:00:00Z</td>\n",
       "      <td>62</td>\n",
       "      <td>JARDIM DA PENHA</td>\n",
       "      <td>0</td>\n",
       "      <td>1</td>\n",
       "      <td>0</td>\n",
       "      <td>0</td>\n",
       "      <td>0</td>\n",
       "      <td>0</td>\n",
       "      <td>No</td>\n",
       "    </tr>\n",
       "  </tbody>\n",
       "</table>\n",
       "</div>"
      ],
      "text/plain": [
       "     patient_ID  appointment_ID gender         scheduled_day  \\\n",
       "0  2.987250e+13         5642903      F  2016-04-29T18:38:08Z   \n",
       "\n",
       "        appointment_day  age    neighbourhood  scholarship  hypertension  \\\n",
       "0  2016-04-29T00:00:00Z   62  JARDIM DA PENHA            0             1   \n",
       "\n",
       "   diabetes  alcoholism  handicap  SMS_received no_show  \n",
       "0         0           0         0             0      No  "
      ]
     },
     "execution_count": 7,
     "metadata": {},
     "output_type": "execute_result"
    }
   ],
   "source": [
    "df.columns = [\n",
    "    'patient_ID', 'appointment_ID', 'gender', 'scheduled_day',\n",
    "    'appointment_day', 'age', 'neighbourhood', 'scholarship',\n",
    "    'hypertension', 'diabetes', 'alcoholism', 'handicap', 'SMS_received',\n",
    "    'no_show'\n",
    "    ]\n",
    "df.head(1)"
   ]
  },
  {
   "cell_type": "markdown",
   "metadata": {},
   "source": [
    "Now, we'll take a look at each of the columns, clean and/or modify them and add new columns as needed."
   ]
  },
  {
   "cell_type": "markdown",
   "metadata": {},
   "source": [
    "### patient_ID\n",
    "This column is the id of the patient. \n",
    "Datatype is float.\n",
    "There are 62299 unique ids."
   ]
  },
  {
   "cell_type": "code",
   "execution_count": 8,
   "metadata": {},
   "outputs": [
    {
     "name": "stdout",
     "output_type": "stream",
     "text": [
      "0    29872499824296.000000\n",
      "1   558997776694438.000000\n",
      "2     4262962299951.000000\n",
      "3      867951213174.000000\n",
      "4     8841186448183.000000\n",
      "Name: patient_ID, dtype: float64\n"
     ]
    }
   ],
   "source": [
    "# to make sure that all the decimals get displayed.\n",
    "pd.set_option('display.float_format', '{:9f}'.format)\n",
    "print(df.patient_ID.head(5))"
   ]
  },
  {
   "cell_type": "code",
   "execution_count": 9,
   "metadata": {},
   "outputs": [
    {
     "name": "stdout",
     "output_type": "stream",
     "text": [
      "3950      93779.529270\n",
      "73228    537615.284760\n",
      "73303    141724.166550\n",
      "100517    39217.844390\n",
      "105430    43741.756520\n",
      "Name: patient_ID, dtype: float64\n"
     ]
    }
   ],
   "source": [
    "# we see the columns with fractional ids\n",
    "print(df[~df.patient_ID.apply(lambda x:x.is_integer())]['patient_ID']) # x.is_integer() returns true if integer"
   ]
  },
  {
   "cell_type": "markdown",
   "metadata": {},
   "source": [
    ">We can see that there are some columns having fractional id. The obvious guess is that the decimal points were typos(e.g. a patient made two appointments, and during data input in one appointment, the patient ID was incorrectly input-ted).\n",
    "\n",
    ">We can check that if the decimal points are removed, whether these patient IDs would appear in other records. Simply multiply by 100000 and compare the patient_ID with others.\n",
    "\n",
    ">Turns out that none of the columns matched even after removing the decimal. Therefore they are unique and there is no reason to change them yet."
   ]
  },
  {
   "cell_type": "markdown",
   "metadata": {},
   "source": [
    "### appointment_ID\n",
    "As each row represents one appointment."
   ]
  },
  {
   "cell_type": "code",
   "execution_count": 10,
   "metadata": {},
   "outputs": [
    {
     "data": {
      "text/plain": [
       "110527"
      ]
     },
     "execution_count": 10,
     "metadata": {},
     "output_type": "execute_result"
    }
   ],
   "source": [
    "len(df.appointment_ID.unique())"
   ]
  },
  {
   "cell_type": "markdown",
   "metadata": {},
   "source": [
    "The number of unique appointment_ID values, 110527, is the same as the number of rows. That means all appointment_ID are unique.\n",
    "\n",
    "We'll make appointment ID the index."
   ]
  },
  {
   "cell_type": "code",
   "execution_count": 11,
   "metadata": {
    "collapsed": true
   },
   "outputs": [],
   "source": [
    "df.set_index('appointment_ID', inplace=True)"
   ]
  },
  {
   "cell_type": "markdown",
   "metadata": {},
   "source": [
    "### scheduled_day\n",
    "Datatype is object(string). Lets parse it into datetime object"
   ]
  },
  {
   "cell_type": "code",
   "execution_count": 12,
   "metadata": {
    "collapsed": true
   },
   "outputs": [],
   "source": [
    "df.scheduled_day = pd.to_datetime(df.scheduled_day)"
   ]
  },
  {
   "cell_type": "markdown",
   "metadata": {},
   "source": [
    "### appointment_day\n",
    "This column is the date of the appointment. There is a time element in the column but it is all 00:00:00 which means the time of the appointment is not recorded.\n",
    "\n",
    "We will also add a column \n",
    ">lead_days:\n",
    "\n",
    ">Since we don't have the time for the appointment, we'll just compute the difference in days between the scheduled_day and appointment_day, assuming all scheduling is done at 00:00:00.\n",
    ">As such, same-day appointments should show a 0. Any value < 0 means there may be something wrong with the data as it doens't make sense for the appointment to happen before the scheduling.\n",
    "\n"
   ]
  },
  {
   "cell_type": "code",
   "execution_count": 13,
   "metadata": {},
   "outputs": [
    {
     "data": {
      "text/html": [
       "<div>\n",
       "<style scoped>\n",
       "    .dataframe tbody tr th:only-of-type {\n",
       "        vertical-align: middle;\n",
       "    }\n",
       "\n",
       "    .dataframe tbody tr th {\n",
       "        vertical-align: top;\n",
       "    }\n",
       "\n",
       "    .dataframe thead th {\n",
       "        text-align: right;\n",
       "    }\n",
       "</style>\n",
       "<table border=\"1\" class=\"dataframe\">\n",
       "  <thead>\n",
       "    <tr style=\"text-align: right;\">\n",
       "      <th></th>\n",
       "      <th>patient_ID</th>\n",
       "      <th>gender</th>\n",
       "      <th>scheduled_day</th>\n",
       "      <th>appointment_day</th>\n",
       "      <th>age</th>\n",
       "      <th>neighbourhood</th>\n",
       "      <th>scholarship</th>\n",
       "      <th>hypertension</th>\n",
       "      <th>diabetes</th>\n",
       "      <th>alcoholism</th>\n",
       "      <th>handicap</th>\n",
       "      <th>SMS_received</th>\n",
       "      <th>no_show</th>\n",
       "      <th>lead_days</th>\n",
       "    </tr>\n",
       "    <tr>\n",
       "      <th>appointment_ID</th>\n",
       "      <th></th>\n",
       "      <th></th>\n",
       "      <th></th>\n",
       "      <th></th>\n",
       "      <th></th>\n",
       "      <th></th>\n",
       "      <th></th>\n",
       "      <th></th>\n",
       "      <th></th>\n",
       "      <th></th>\n",
       "      <th></th>\n",
       "      <th></th>\n",
       "      <th></th>\n",
       "      <th></th>\n",
       "    </tr>\n",
       "  </thead>\n",
       "  <tbody>\n",
       "    <tr>\n",
       "      <th>5642903</th>\n",
       "      <td>29872499824296.000000</td>\n",
       "      <td>F</td>\n",
       "      <td>2016-04-29 18:38:08</td>\n",
       "      <td>2016-04-29</td>\n",
       "      <td>62</td>\n",
       "      <td>JARDIM DA PENHA</td>\n",
       "      <td>0</td>\n",
       "      <td>1</td>\n",
       "      <td>0</td>\n",
       "      <td>0</td>\n",
       "      <td>0</td>\n",
       "      <td>0</td>\n",
       "      <td>No</td>\n",
       "      <td>0</td>\n",
       "    </tr>\n",
       "    <tr>\n",
       "      <th>5642503</th>\n",
       "      <td>558997776694438.000000</td>\n",
       "      <td>M</td>\n",
       "      <td>2016-04-29 16:08:27</td>\n",
       "      <td>2016-04-29</td>\n",
       "      <td>56</td>\n",
       "      <td>JARDIM DA PENHA</td>\n",
       "      <td>0</td>\n",
       "      <td>0</td>\n",
       "      <td>0</td>\n",
       "      <td>0</td>\n",
       "      <td>0</td>\n",
       "      <td>0</td>\n",
       "      <td>No</td>\n",
       "      <td>0</td>\n",
       "    </tr>\n",
       "    <tr>\n",
       "      <th>5642549</th>\n",
       "      <td>4262962299951.000000</td>\n",
       "      <td>F</td>\n",
       "      <td>2016-04-29 16:19:04</td>\n",
       "      <td>2016-04-29</td>\n",
       "      <td>62</td>\n",
       "      <td>MATA DA PRAIA</td>\n",
       "      <td>0</td>\n",
       "      <td>0</td>\n",
       "      <td>0</td>\n",
       "      <td>0</td>\n",
       "      <td>0</td>\n",
       "      <td>0</td>\n",
       "      <td>No</td>\n",
       "      <td>0</td>\n",
       "    </tr>\n",
       "    <tr>\n",
       "      <th>5642828</th>\n",
       "      <td>867951213174.000000</td>\n",
       "      <td>F</td>\n",
       "      <td>2016-04-29 17:29:31</td>\n",
       "      <td>2016-04-29</td>\n",
       "      <td>8</td>\n",
       "      <td>PONTAL DE CAMBURI</td>\n",
       "      <td>0</td>\n",
       "      <td>0</td>\n",
       "      <td>0</td>\n",
       "      <td>0</td>\n",
       "      <td>0</td>\n",
       "      <td>0</td>\n",
       "      <td>No</td>\n",
       "      <td>0</td>\n",
       "    </tr>\n",
       "    <tr>\n",
       "      <th>5642494</th>\n",
       "      <td>8841186448183.000000</td>\n",
       "      <td>F</td>\n",
       "      <td>2016-04-29 16:07:23</td>\n",
       "      <td>2016-04-29</td>\n",
       "      <td>56</td>\n",
       "      <td>JARDIM DA PENHA</td>\n",
       "      <td>0</td>\n",
       "      <td>1</td>\n",
       "      <td>1</td>\n",
       "      <td>0</td>\n",
       "      <td>0</td>\n",
       "      <td>0</td>\n",
       "      <td>No</td>\n",
       "      <td>0</td>\n",
       "    </tr>\n",
       "  </tbody>\n",
       "</table>\n",
       "</div>"
      ],
      "text/plain": [
       "                           patient_ID gender       scheduled_day  \\\n",
       "appointment_ID                                                     \n",
       "5642903         29872499824296.000000      F 2016-04-29 18:38:08   \n",
       "5642503        558997776694438.000000      M 2016-04-29 16:08:27   \n",
       "5642549          4262962299951.000000      F 2016-04-29 16:19:04   \n",
       "5642828           867951213174.000000      F 2016-04-29 17:29:31   \n",
       "5642494          8841186448183.000000      F 2016-04-29 16:07:23   \n",
       "\n",
       "               appointment_day  age      neighbourhood  scholarship  \\\n",
       "appointment_ID                                                        \n",
       "5642903             2016-04-29   62    JARDIM DA PENHA            0   \n",
       "5642503             2016-04-29   56    JARDIM DA PENHA            0   \n",
       "5642549             2016-04-29   62      MATA DA PRAIA            0   \n",
       "5642828             2016-04-29    8  PONTAL DE CAMBURI            0   \n",
       "5642494             2016-04-29   56    JARDIM DA PENHA            0   \n",
       "\n",
       "                hypertension  diabetes  alcoholism  handicap  SMS_received  \\\n",
       "appointment_ID                                                               \n",
       "5642903                    1         0           0         0             0   \n",
       "5642503                    0         0           0         0             0   \n",
       "5642549                    0         0           0         0             0   \n",
       "5642828                    0         0           0         0             0   \n",
       "5642494                    1         1           0         0             0   \n",
       "\n",
       "               no_show  lead_days  \n",
       "appointment_ID                     \n",
       "5642903             No          0  \n",
       "5642503             No          0  \n",
       "5642549             No          0  \n",
       "5642828             No          0  \n",
       "5642494             No          0  "
      ]
     },
     "execution_count": 13,
     "metadata": {},
     "output_type": "execute_result"
    }
   ],
   "source": [
    "def get_day(datetime_object):\n",
    "    '''This function returns only the date part of a datetime'''\n",
    "    return datetime_object.date()\n",
    "\n",
    "# Parse the date from string\n",
    "df.appointment_day = pd.to_datetime(df.appointment_day)\n",
    "# Get lead_days column in timedelta64[ns] format\n",
    "df['lead_days'] = (\n",
    "    df.appointment_day.apply(get_day)\n",
    "    - df.scheduled_day.apply(get_day)\n",
    "    )\n",
    "# Change the datatype into integer\n",
    "df.lead_days = (\n",
    "    (df.lead_days.astype('timedelta64[D]')).astype(int)\n",
    "    )\n",
    "\n",
    "# display the dataframe\n",
    "df.head()"
   ]
  },
  {
   "cell_type": "markdown",
   "metadata": {},
   "source": [
    "Finally we'll look for entries whose appointment_day is earlier than the scheduled_day. These will be clear errors as it doesn't make sense for one to schedule an appointment for a date in the past."
   ]
  },
  {
   "cell_type": "code",
   "execution_count": 14,
   "metadata": {},
   "outputs": [
    {
     "data": {
      "text/html": [
       "<div>\n",
       "<style scoped>\n",
       "    .dataframe tbody tr th:only-of-type {\n",
       "        vertical-align: middle;\n",
       "    }\n",
       "\n",
       "    .dataframe tbody tr th {\n",
       "        vertical-align: top;\n",
       "    }\n",
       "\n",
       "    .dataframe thead th {\n",
       "        text-align: right;\n",
       "    }\n",
       "</style>\n",
       "<table border=\"1\" class=\"dataframe\">\n",
       "  <thead>\n",
       "    <tr style=\"text-align: right;\">\n",
       "      <th></th>\n",
       "      <th>patient_ID</th>\n",
       "      <th>gender</th>\n",
       "      <th>scheduled_day</th>\n",
       "      <th>appointment_day</th>\n",
       "      <th>age</th>\n",
       "      <th>neighbourhood</th>\n",
       "      <th>scholarship</th>\n",
       "      <th>hypertension</th>\n",
       "      <th>diabetes</th>\n",
       "      <th>alcoholism</th>\n",
       "      <th>handicap</th>\n",
       "      <th>SMS_received</th>\n",
       "      <th>no_show</th>\n",
       "      <th>lead_days</th>\n",
       "    </tr>\n",
       "    <tr>\n",
       "      <th>appointment_ID</th>\n",
       "      <th></th>\n",
       "      <th></th>\n",
       "      <th></th>\n",
       "      <th></th>\n",
       "      <th></th>\n",
       "      <th></th>\n",
       "      <th></th>\n",
       "      <th></th>\n",
       "      <th></th>\n",
       "      <th></th>\n",
       "      <th></th>\n",
       "      <th></th>\n",
       "      <th></th>\n",
       "      <th></th>\n",
       "    </tr>\n",
       "  </thead>\n",
       "  <tbody>\n",
       "    <tr>\n",
       "      <th>5679978</th>\n",
       "      <td>7839272661752.000000</td>\n",
       "      <td>M</td>\n",
       "      <td>2016-05-10 10:51:53</td>\n",
       "      <td>2016-05-09</td>\n",
       "      <td>38</td>\n",
       "      <td>RESISTÊNCIA</td>\n",
       "      <td>0</td>\n",
       "      <td>0</td>\n",
       "      <td>0</td>\n",
       "      <td>0</td>\n",
       "      <td>1</td>\n",
       "      <td>0</td>\n",
       "      <td>Yes</td>\n",
       "      <td>-1</td>\n",
       "    </tr>\n",
       "    <tr>\n",
       "      <th>5715660</th>\n",
       "      <td>7896293967868.000000</td>\n",
       "      <td>F</td>\n",
       "      <td>2016-05-18 14:50:41</td>\n",
       "      <td>2016-05-17</td>\n",
       "      <td>19</td>\n",
       "      <td>SANTO ANTÔNIO</td>\n",
       "      <td>0</td>\n",
       "      <td>0</td>\n",
       "      <td>0</td>\n",
       "      <td>0</td>\n",
       "      <td>1</td>\n",
       "      <td>0</td>\n",
       "      <td>Yes</td>\n",
       "      <td>-1</td>\n",
       "    </tr>\n",
       "    <tr>\n",
       "      <th>5664962</th>\n",
       "      <td>24252258389979.000000</td>\n",
       "      <td>F</td>\n",
       "      <td>2016-05-05 13:43:58</td>\n",
       "      <td>2016-05-04</td>\n",
       "      <td>22</td>\n",
       "      <td>CONSOLAÇÃO</td>\n",
       "      <td>0</td>\n",
       "      <td>0</td>\n",
       "      <td>0</td>\n",
       "      <td>0</td>\n",
       "      <td>0</td>\n",
       "      <td>0</td>\n",
       "      <td>Yes</td>\n",
       "      <td>-1</td>\n",
       "    </tr>\n",
       "    <tr>\n",
       "      <th>5686628</th>\n",
       "      <td>998231581612122.000000</td>\n",
       "      <td>F</td>\n",
       "      <td>2016-05-11 13:49:20</td>\n",
       "      <td>2016-05-05</td>\n",
       "      <td>81</td>\n",
       "      <td>SANTO ANTÔNIO</td>\n",
       "      <td>0</td>\n",
       "      <td>0</td>\n",
       "      <td>0</td>\n",
       "      <td>0</td>\n",
       "      <td>0</td>\n",
       "      <td>0</td>\n",
       "      <td>Yes</td>\n",
       "      <td>-6</td>\n",
       "    </tr>\n",
       "    <tr>\n",
       "      <th>5655637</th>\n",
       "      <td>3787481966821.000000</td>\n",
       "      <td>M</td>\n",
       "      <td>2016-05-04 06:50:57</td>\n",
       "      <td>2016-05-03</td>\n",
       "      <td>7</td>\n",
       "      <td>TABUAZEIRO</td>\n",
       "      <td>0</td>\n",
       "      <td>0</td>\n",
       "      <td>0</td>\n",
       "      <td>0</td>\n",
       "      <td>0</td>\n",
       "      <td>0</td>\n",
       "      <td>Yes</td>\n",
       "      <td>-1</td>\n",
       "    </tr>\n",
       "  </tbody>\n",
       "</table>\n",
       "</div>"
      ],
      "text/plain": [
       "                           patient_ID gender       scheduled_day  \\\n",
       "appointment_ID                                                     \n",
       "5679978          7839272661752.000000      M 2016-05-10 10:51:53   \n",
       "5715660          7896293967868.000000      F 2016-05-18 14:50:41   \n",
       "5664962         24252258389979.000000      F 2016-05-05 13:43:58   \n",
       "5686628        998231581612122.000000      F 2016-05-11 13:49:20   \n",
       "5655637          3787481966821.000000      M 2016-05-04 06:50:57   \n",
       "\n",
       "               appointment_day  age  neighbourhood  scholarship  hypertension  \\\n",
       "appointment_ID                                                                  \n",
       "5679978             2016-05-09   38    RESISTÊNCIA            0             0   \n",
       "5715660             2016-05-17   19  SANTO ANTÔNIO            0             0   \n",
       "5664962             2016-05-04   22     CONSOLAÇÃO            0             0   \n",
       "5686628             2016-05-05   81  SANTO ANTÔNIO            0             0   \n",
       "5655637             2016-05-03    7     TABUAZEIRO            0             0   \n",
       "\n",
       "                diabetes  alcoholism  handicap  SMS_received no_show  \\\n",
       "appointment_ID                                                         \n",
       "5679978                0           0         1             0     Yes   \n",
       "5715660                0           0         1             0     Yes   \n",
       "5664962                0           0         0             0     Yes   \n",
       "5686628                0           0         0             0     Yes   \n",
       "5655637                0           0         0             0     Yes   \n",
       "\n",
       "                lead_days  \n",
       "appointment_ID             \n",
       "5679978                -1  \n",
       "5715660                -1  \n",
       "5664962                -1  \n",
       "5686628                -6  \n",
       "5655637                -1  "
      ]
     },
     "execution_count": 14,
     "metadata": {},
     "output_type": "execute_result"
    }
   ],
   "source": [
    "# See if any entries have the appointment_day earlier than the scheduled_day\n",
    "df[df.lead_days < 0]"
   ]
  },
  {
   "cell_type": "markdown",
   "metadata": {},
   "source": [
    ">5 entries have negative lead_days. Whether these are typos or humans trying to get around the system or other reasons, we cannot tell.\n",
    ">\n",
    ">Whatever the cause, if we use the duration between scheduled_day and appointment_day as a feature to predict whether the patient is going to show up, these entries will cause problems, or at least introduce noise.\n",
    ">\n",
    ">Since there are only so few entries with this problem, we are going to delete them."
   ]
  },
  {
   "cell_type": "code",
   "execution_count": 15,
   "metadata": {
    "collapsed": true
   },
   "outputs": [],
   "source": [
    "# Dropping the rows where the scheduled_day is later than the appointment_day\n",
    "df.drop(df[df.lead_days < 0].index, inplace=True)"
   ]
  },
  {
   "cell_type": "markdown",
   "metadata": {},
   "source": [
    "### age\n",
    "This column is the age of the patients."
   ]
  },
  {
   "cell_type": "code",
   "execution_count": 16,
   "metadata": {},
   "outputs": [
    {
     "data": {
      "text/plain": [
       "count   110522.000000\n",
       "mean        37.089041\n",
       "std         23.110064\n",
       "min         -1.000000\n",
       "25%         18.000000\n",
       "50%         37.000000\n",
       "75%         55.000000\n",
       "max        115.000000\n",
       "Name: age, dtype: float64"
      ]
     },
     "execution_count": 16,
     "metadata": {},
     "output_type": "execute_result"
    }
   ],
   "source": [
    "df.age.describe()"
   ]
  },
  {
   "cell_type": "markdown",
   "metadata": {},
   "source": [
    "We can see that age has a minimum value of -1 which is not possible, therefore we will delete these columns . Also max age of 115 althogh possible should be rare. Let's check it out."
   ]
  },
  {
   "cell_type": "code",
   "execution_count": 17,
   "metadata": {},
   "outputs": [
    {
     "data": {
      "text/plain": [
       "-1      1\n",
       " 99     1\n",
       " 102    2\n",
       " 100    4\n",
       " 115    5\n",
       "Name: age, dtype: int64"
      ]
     },
     "execution_count": 17,
     "metadata": {},
     "output_type": "execute_result"
    }
   ],
   "source": [
    "df.age.value_counts(ascending=True).head()"
   ]
  },
  {
   "cell_type": "markdown",
   "metadata": {},
   "source": [
    "5 appointments with patient's age 115 is fairly possible; we keep it. But we delete the one appointment with age -1"
   ]
  },
  {
   "cell_type": "code",
   "execution_count": 18,
   "metadata": {},
   "outputs": [
    {
     "data": {
      "text/plain": [
       "110521"
      ]
     },
     "execution_count": 18,
     "metadata": {},
     "output_type": "execute_result"
    }
   ],
   "source": [
    "i=df[df.age == -1].index\n",
    "df.drop(i, inplace=True)\n",
    "(df.age == -1).count()"
   ]
  },
  {
   "cell_type": "markdown",
   "metadata": {},
   "source": [
    "<a id='eda'></a>\n",
    "## Exploratory Data Analysis\n",
    "\n",
    "> **Tip**: Now that you've trimmed and cleaned your data, you're ready to move on to exploration. Compute statistics and create visualizations with the goal of addressing the research questions that you posed in the Introduction section. It is recommended that you be systematic with your approach. Look at one variable at a time, and then follow it up by looking at relationships between variables.\n"
   ]
  },
  {
   "cell_type": "code",
   "execution_count": 23,
   "metadata": {},
   "outputs": [
    {
     "data": {
      "text/plain": [
       "array([[<matplotlib.axes._subplots.AxesSubplot object at 0x1224ea908>,\n",
       "        <matplotlib.axes._subplots.AxesSubplot object at 0x142d38b38>,\n",
       "        <matplotlib.axes._subplots.AxesSubplot object at 0x142cf6780>,\n",
       "        <matplotlib.axes._subplots.AxesSubplot object at 0x1432ff2e8>,\n",
       "        <matplotlib.axes._subplots.AxesSubplot object at 0x14331d5f8>,\n",
       "        <matplotlib.axes._subplots.AxesSubplot object at 0x14331d630>,\n",
       "        <matplotlib.axes._subplots.AxesSubplot object at 0x143511e80>,\n",
       "        <matplotlib.axes._subplots.AxesSubplot object at 0x14353d550>],\n",
       "       [<matplotlib.axes._subplots.AxesSubplot object at 0x143564be0>,\n",
       "        <matplotlib.axes._subplots.AxesSubplot object at 0x1435972b0>,\n",
       "        <matplotlib.axes._subplots.AxesSubplot object at 0x1435be940>,\n",
       "        <matplotlib.axes._subplots.AxesSubplot object at 0x1435e8fd0>,\n",
       "        <matplotlib.axes._subplots.AxesSubplot object at 0x1436196a0>,\n",
       "        <matplotlib.axes._subplots.AxesSubplot object at 0x143640d30>,\n",
       "        <matplotlib.axes._subplots.AxesSubplot object at 0x143673400>,\n",
       "        <matplotlib.axes._subplots.AxesSubplot object at 0x14369aa90>],\n",
       "       [<matplotlib.axes._subplots.AxesSubplot object at 0x1436cc160>,\n",
       "        <matplotlib.axes._subplots.AxesSubplot object at 0x1436f57f0>,\n",
       "        <matplotlib.axes._subplots.AxesSubplot object at 0x14371ee80>,\n",
       "        <matplotlib.axes._subplots.AxesSubplot object at 0x14374d550>,\n",
       "        <matplotlib.axes._subplots.AxesSubplot object at 0x143777be0>,\n",
       "        <matplotlib.axes._subplots.AxesSubplot object at 0x1437a92b0>,\n",
       "        <matplotlib.axes._subplots.AxesSubplot object at 0x1437ce940>,\n",
       "        <matplotlib.axes._subplots.AxesSubplot object at 0x1437fbfd0>],\n",
       "       [<matplotlib.axes._subplots.AxesSubplot object at 0x14382a6a0>,\n",
       "        <matplotlib.axes._subplots.AxesSubplot object at 0x143853d30>,\n",
       "        <matplotlib.axes._subplots.AxesSubplot object at 0x143885400>,\n",
       "        <matplotlib.axes._subplots.AxesSubplot object at 0x1438aca90>,\n",
       "        <matplotlib.axes._subplots.AxesSubplot object at 0x1438e1160>,\n",
       "        <matplotlib.axes._subplots.AxesSubplot object at 0x1439087f0>,\n",
       "        <matplotlib.axes._subplots.AxesSubplot object at 0x143930e80>,\n",
       "        <matplotlib.axes._subplots.AxesSubplot object at 0x143961550>],\n",
       "       [<matplotlib.axes._subplots.AxesSubplot object at 0x143989be0>,\n",
       "        <matplotlib.axes._subplots.AxesSubplot object at 0x1439bb2b0>,\n",
       "        <matplotlib.axes._subplots.AxesSubplot object at 0x1439e4940>,\n",
       "        <matplotlib.axes._subplots.AxesSubplot object at 0x143a0bfd0>,\n",
       "        <matplotlib.axes._subplots.AxesSubplot object at 0x143a3e6a0>,\n",
       "        <matplotlib.axes._subplots.AxesSubplot object at 0x143a67d30>,\n",
       "        <matplotlib.axes._subplots.AxesSubplot object at 0x143a96400>,\n",
       "        <matplotlib.axes._subplots.AxesSubplot object at 0x143ac0a90>],\n",
       "       [<matplotlib.axes._subplots.AxesSubplot object at 0x143af1160>,\n",
       "        <matplotlib.axes._subplots.AxesSubplot object at 0x143b187f0>,\n",
       "        <matplotlib.axes._subplots.AxesSubplot object at 0x143b41e80>,\n",
       "        <matplotlib.axes._subplots.AxesSubplot object at 0x143b75550>,\n",
       "        <matplotlib.axes._subplots.AxesSubplot object at 0x143b9bbe0>,\n",
       "        <matplotlib.axes._subplots.AxesSubplot object at 0x143bcc2b0>,\n",
       "        <matplotlib.axes._subplots.AxesSubplot object at 0x143bf6940>,\n",
       "        <matplotlib.axes._subplots.AxesSubplot object at 0x143c1ffd0>],\n",
       "       [<matplotlib.axes._subplots.AxesSubplot object at 0x143c506a0>,\n",
       "        <matplotlib.axes._subplots.AxesSubplot object at 0x143c78d30>,\n",
       "        <matplotlib.axes._subplots.AxesSubplot object at 0x143caa400>,\n",
       "        <matplotlib.axes._subplots.AxesSubplot object at 0x143cd1a90>,\n",
       "        <matplotlib.axes._subplots.AxesSubplot object at 0x143d04160>,\n",
       "        <matplotlib.axes._subplots.AxesSubplot object at 0x143d2b7f0>,\n",
       "        <matplotlib.axes._subplots.AxesSubplot object at 0x143d55e80>,\n",
       "        <matplotlib.axes._subplots.AxesSubplot object at 0x143d84550>],\n",
       "       [<matplotlib.axes._subplots.AxesSubplot object at 0x143dadbe0>,\n",
       "        <matplotlib.axes._subplots.AxesSubplot object at 0x143de22b0>,\n",
       "        <matplotlib.axes._subplots.AxesSubplot object at 0x143e07940>,\n",
       "        <matplotlib.axes._subplots.AxesSubplot object at 0x143e31fd0>,\n",
       "        <matplotlib.axes._subplots.AxesSubplot object at 0x143e616a0>,\n",
       "        <matplotlib.axes._subplots.AxesSubplot object at 0x143e89d30>,\n",
       "        <matplotlib.axes._subplots.AxesSubplot object at 0x143ebc400>,\n",
       "        <matplotlib.axes._subplots.AxesSubplot object at 0x143ee3a90>]],\n",
       "      dtype=object)"
      ]
     },
     "execution_count": 23,
     "metadata": {},
     "output_type": "execute_result"
    },
    {
     "data": {
      "image/png": "[encoded data removed]",
      "text/plain": [
       "<Figure size 1440x1440 with 64 Axes>"
      ]
     },
     "metadata": {},
     "output_type": "display_data"
    }
   ],
   "source": [
    "pd.plotting.scatter_matrix(df.iloc[:, 2:], figsize=(20,20))"
   ]
  },
  {
   "cell_type": "markdown",
   "metadata": {},
   "source": [
    "### Which sex takes more appointments?"
   ]
  },
  {
   "cell_type": "code",
   "execution_count": 140,
   "metadata": {},
   "outputs": [
    {
     "data": {
      "image/png": "[encoded data removed]",
      "text/plain": [
       "<matplotlib.figure.Figure at 0x7fa45ea71358>"
      ]
     },
     "metadata": {
      "needs_background": "light"
     },
     "output_type": "display_data"
    }
   ],
   "source": [
    "df.gender.value_counts().plot(kind='bar')\n",
    "plt.title('No. of appointments made with respect to gender')\n",
    "plt.xlabel('Gender', size=12)\n",
    "plt.ylabel('Number of appointments made', size = 12);"
   ]
  },
  {
   "cell_type": "markdown",
   "metadata": {},
   "source": [
    "\n",
    "Female patients make up almost two thirds of the visits. Interesting number, but we can't say we've spotted anything unreasonable. Although it might be that women are more concerned of their body then men are."
   ]
  },
  {
   "cell_type": "markdown",
   "metadata": {},
   "source": [
    "### Is there a trend in appointments with respect to age of the patient?\n",
    "At higher ages, counts start to get sparse, therefore we'll bin the age values and put it in a new column:\n",
    ">age_group:\n",
    "\n",
    "0-9 will be group 0, 10-19 will be group 1, 20-29 will be group 2, etc. Since ages 100 or above are rare, we'll put any age 90 or above into group 9. The single case of the age being -1 will also be in group 0."
   ]
  },
  {
   "cell_type": "code",
   "execution_count": 141,
   "metadata": {
    "scrolled": true
   },
   "outputs": [
    {
     "data": {
      "text/html": [
       "<div>\n",
       "<style>\n",
       "    .dataframe thead tr:only-child th {\n",
       "        text-align: right;\n",
       "    }\n",
       "\n",
       "    .dataframe thead th {\n",
       "        text-align: left;\n",
       "    }\n",
       "\n",
       "    .dataframe tbody tr th {\n",
       "        vertical-align: top;\n",
       "    }\n",
       "</style>\n",
       "<table border=\"1\" class=\"dataframe\">\n",
       "  <thead>\n",
       "    <tr style=\"text-align: right;\">\n",
       "      <th></th>\n",
       "      <th>patient_ID</th>\n",
       "      <th>gender</th>\n",
       "      <th>scheduled_day</th>\n",
       "      <th>appointment_day</th>\n",
       "      <th>age</th>\n",
       "      <th>neighbourhood</th>\n",
       "      <th>scholarship</th>\n",
       "      <th>hypertension</th>\n",
       "      <th>diabetes</th>\n",
       "      <th>alcoholism</th>\n",
       "      <th>handicap</th>\n",
       "      <th>SMS_received</th>\n",
       "      <th>no_show</th>\n",
       "      <th>lead_days</th>\n",
       "      <th>is_handicapped</th>\n",
       "      <th>age_group</th>\n",
       "    </tr>\n",
       "    <tr>\n",
       "      <th>appointment_ID</th>\n",
       "      <th></th>\n",
       "      <th></th>\n",
       "      <th></th>\n",
       "      <th></th>\n",
       "      <th></th>\n",
       "      <th></th>\n",
       "      <th></th>\n",
       "      <th></th>\n",
       "      <th></th>\n",
       "      <th></th>\n",
       "      <th></th>\n",
       "      <th></th>\n",
       "      <th></th>\n",
       "      <th></th>\n",
       "      <th></th>\n",
       "      <th></th>\n",
       "    </tr>\n",
       "  </thead>\n",
       "  <tbody>\n",
       "    <tr>\n",
       "      <th>5642903</th>\n",
       "      <td>29872499824296.000000</td>\n",
       "      <td>F</td>\n",
       "      <td>2016-04-29 18:38:08</td>\n",
       "      <td>2016-04-29</td>\n",
       "      <td>62</td>\n",
       "      <td>JARDIM DA PENHA</td>\n",
       "      <td>0</td>\n",
       "      <td>1</td>\n",
       "      <td>0</td>\n",
       "      <td>0</td>\n",
       "      <td>0</td>\n",
       "      <td>0</td>\n",
       "      <td>No</td>\n",
       "      <td>0</td>\n",
       "      <td>False</td>\n",
       "      <td>6</td>\n",
       "    </tr>\n",
       "    <tr>\n",
       "      <th>5642503</th>\n",
       "      <td>558997776694438.000000</td>\n",
       "      <td>M</td>\n",
       "      <td>2016-04-29 16:08:27</td>\n",
       "      <td>2016-04-29</td>\n",
       "      <td>56</td>\n",
       "      <td>JARDIM DA PENHA</td>\n",
       "      <td>0</td>\n",
       "      <td>0</td>\n",
       "      <td>0</td>\n",
       "      <td>0</td>\n",
       "      <td>0</td>\n",
       "      <td>0</td>\n",
       "      <td>No</td>\n",
       "      <td>0</td>\n",
       "      <td>False</td>\n",
       "      <td>5</td>\n",
       "    </tr>\n",
       "    <tr>\n",
       "      <th>5642549</th>\n",
       "      <td>4262962299951.000000</td>\n",
       "      <td>F</td>\n",
       "      <td>2016-04-29 16:19:04</td>\n",
       "      <td>2016-04-29</td>\n",
       "      <td>62</td>\n",
       "      <td>MATA DA PRAIA</td>\n",
       "      <td>0</td>\n",
       "      <td>0</td>\n",
       "      <td>0</td>\n",
       "      <td>0</td>\n",
       "      <td>0</td>\n",
       "      <td>0</td>\n",
       "      <td>No</td>\n",
       "      <td>0</td>\n",
       "      <td>False</td>\n",
       "      <td>6</td>\n",
       "    </tr>\n",
       "    <tr>\n",
       "      <th>5642828</th>\n",
       "      <td>867951213174.000000</td>\n",
       "      <td>F</td>\n",
       "      <td>2016-04-29 17:29:31</td>\n",
       "      <td>2016-04-29</td>\n",
       "      <td>8</td>\n",
       "      <td>PONTAL DE CAMBURI</td>\n",
       "      <td>0</td>\n",
       "      <td>0</td>\n",
       "      <td>0</td>\n",
       "      <td>0</td>\n",
       "      <td>0</td>\n",
       "      <td>0</td>\n",
       "      <td>No</td>\n",
       "      <td>0</td>\n",
       "      <td>False</td>\n",
       "      <td>0</td>\n",
       "    </tr>\n",
       "    <tr>\n",
       "      <th>5642494</th>\n",
       "      <td>8841186448183.000000</td>\n",
       "      <td>F</td>\n",
       "      <td>2016-04-29 16:07:23</td>\n",
       "      <td>2016-04-29</td>\n",
       "      <td>56</td>\n",
       "      <td>JARDIM DA PENHA</td>\n",
       "      <td>0</td>\n",
       "      <td>1</td>\n",
       "      <td>1</td>\n",
       "      <td>0</td>\n",
       "      <td>0</td>\n",
       "      <td>0</td>\n",
       "      <td>No</td>\n",
       "      <td>0</td>\n",
       "      <td>False</td>\n",
       "      <td>5</td>\n",
       "    </tr>\n",
       "  </tbody>\n",
       "</table>\n",
       "</div>"
      ],
      "text/plain": [
       "                           patient_ID gender       scheduled_day  \\\n",
       "appointment_ID                                                     \n",
       "5642903         29872499824296.000000      F 2016-04-29 18:38:08   \n",
       "5642503        558997776694438.000000      M 2016-04-29 16:08:27   \n",
       "5642549          4262962299951.000000      F 2016-04-29 16:19:04   \n",
       "5642828           867951213174.000000      F 2016-04-29 17:29:31   \n",
       "5642494          8841186448183.000000      F 2016-04-29 16:07:23   \n",
       "\n",
       "               appointment_day  age      neighbourhood  scholarship  \\\n",
       "appointment_ID                                                        \n",
       "5642903             2016-04-29   62    JARDIM DA PENHA            0   \n",
       "5642503             2016-04-29   56    JARDIM DA PENHA            0   \n",
       "5642549             2016-04-29   62      MATA DA PRAIA            0   \n",
       "5642828             2016-04-29    8  PONTAL DE CAMBURI            0   \n",
       "5642494             2016-04-29   56    JARDIM DA PENHA            0   \n",
       "\n",
       "                hypertension  diabetes  alcoholism  handicap  SMS_received  \\\n",
       "appointment_ID                                                               \n",
       "5642903                    1         0           0         0             0   \n",
       "5642503                    0         0           0         0             0   \n",
       "5642549                    0         0           0         0             0   \n",
       "5642828                    0         0           0         0             0   \n",
       "5642494                    1         1           0         0             0   \n",
       "\n",
       "               no_show  lead_days  is_handicapped  age_group  \n",
       "appointment_ID                                                \n",
       "5642903             No          0           False          6  \n",
       "5642503             No          0           False          5  \n",
       "5642549             No          0           False          6  \n",
       "5642828             No          0           False          0  \n",
       "5642494             No          0           False          5  "
      ]
     },
     "execution_count": 141,
     "metadata": {},
     "output_type": "execute_result"
    }
   ],
   "source": [
    "df2 = df\n",
    "df2['age_group'] = (\n",
    "    df2.age.apply(lambda x: min(int(x / 10) , 9))\n",
    "    )\n",
    "df2.head()"
   ]
  },
  {
   "cell_type": "code",
   "execution_count": 142,
   "metadata": {},
   "outputs": [
    {
     "data": {
      "image/png": "[encoded data removed]",
      "text/plain": [
       "<matplotlib.figure.Figure at 0x7fa45ebe2780>"
      ]
     },
     "metadata": {
      "needs_background": "light"
     },
     "output_type": "display_data"
    }
   ],
   "source": [
    "\n",
    "ind=df2.age_group.value_counts().index\n",
    "\n",
    "df2.age_group.value_counts()[ind].sort_index().plot(kind='bar',)\n",
    "plt.title('No. of appointments made')\n",
    "plt.xlabel('Age-group', size=12)\n",
    "plt.ylabel('Number of appointments made', size = 12);"
   ]
  },
  {
   "cell_type": "markdown",
   "metadata": {},
   "source": [
    "We see that young children(age group 0, age b/w 0 to 9) are more likely to make appointments than teenagers(age group 2 and 3) and young adults. This might be because parents take good care of their young children and appointments are generally made by them.\n",
    "\n",
    "Also Older people above age 60, as they grow older tend to make less appointments."
   ]
  },
  {
   "cell_type": "markdown",
   "metadata": {},
   "source": [
    "### What proportion of people did not show up for the appointment?"
   ]
  },
  {
   "cell_type": "code",
   "execution_count": 143,
   "metadata": {},
   "outputs": [
    {
     "name": "stdout",
     "output_type": "stream",
     "text": [
      "22314\n"
     ]
    },
    {
     "data": {
      "image/png": "[encoded data removed]",
      "text/plain": [
       "<matplotlib.figure.Figure at 0x7fa45ebe2d68>"
      ]
     },
     "metadata": {
      "needs_background": "light"
     },
     "output_type": "display_data"
    }
   ],
   "source": [
    "# Patients who didn't show up.\n",
    "not_show = df[df['no_show']=='Yes'].shape[0]\n",
    "print(not_show)\n",
    "\n",
    "total_appn = df.shape[0]\n",
    "# Percentage of People who didn't show up on appointments\n",
    "not_show_propn= not_show/total_appn\n",
    "show_propn = 1- not_show_propn\n",
    "\n",
    "heights= [not_show_propn, show_propn]\n",
    "plt.bar(['Absent', 'Present'], heights)\n",
    "plt.title('Patient Attendance on Appointed Dates', size =15)\n",
    "plt.xlabel('Attendance on appointed date', size =15)\n",
    "plt.ylabel('Proportions', size =15);"
   ]
  },
  {
   "cell_type": "markdown",
   "metadata": {},
   "source": [
    "Now we know that 20% (1 in every 5) patients didn't show up for their medical appointment. We will see what factors may be responsible for their absence. "
   ]
  },
  {
   "cell_type": "markdown",
   "metadata": {},
   "source": [
    "### Did sending SMS affected the decision of patients to show up for appointment?\n",
    "We create 2 dataframes representing the show appointments and no show appointments"
   ]
  },
  {
   "cell_type": "code",
   "execution_count": 144,
   "metadata": {},
   "outputs": [
    {
     "data": {
      "text/html": [
       "<div>\n",
       "<style>\n",
       "    .dataframe thead tr:only-child th {\n",
       "        text-align: right;\n",
       "    }\n",
       "\n",
       "    .dataframe thead th {\n",
       "        text-align: left;\n",
       "    }\n",
       "\n",
       "    .dataframe tbody tr th {\n",
       "        vertical-align: top;\n",
       "    }\n",
       "</style>\n",
       "<table border=\"1\" class=\"dataframe\">\n",
       "  <thead>\n",
       "    <tr style=\"text-align: right;\">\n",
       "      <th></th>\n",
       "      <th>patient_ID</th>\n",
       "      <th>gender</th>\n",
       "      <th>scheduled_day</th>\n",
       "      <th>appointment_day</th>\n",
       "      <th>age</th>\n",
       "      <th>neighbourhood</th>\n",
       "      <th>scholarship</th>\n",
       "      <th>hypertension</th>\n",
       "      <th>diabetes</th>\n",
       "      <th>alcoholism</th>\n",
       "      <th>handicap</th>\n",
       "      <th>SMS_received</th>\n",
       "      <th>no_show</th>\n",
       "      <th>lead_days</th>\n",
       "      <th>is_handicapped</th>\n",
       "      <th>age_group</th>\n",
       "    </tr>\n",
       "    <tr>\n",
       "      <th>appointment_ID</th>\n",
       "      <th></th>\n",
       "      <th></th>\n",
       "      <th></th>\n",
       "      <th></th>\n",
       "      <th></th>\n",
       "      <th></th>\n",
       "      <th></th>\n",
       "      <th></th>\n",
       "      <th></th>\n",
       "      <th></th>\n",
       "      <th></th>\n",
       "      <th></th>\n",
       "      <th></th>\n",
       "      <th></th>\n",
       "      <th></th>\n",
       "      <th></th>\n",
       "    </tr>\n",
       "  </thead>\n",
       "  <tbody>\n",
       "    <tr>\n",
       "      <th>5642903</th>\n",
       "      <td>29872499824296.000000</td>\n",
       "      <td>F</td>\n",
       "      <td>2016-04-29 18:38:08</td>\n",
       "      <td>2016-04-29</td>\n",
       "      <td>62</td>\n",
       "      <td>JARDIM DA PENHA</td>\n",
       "      <td>0</td>\n",
       "      <td>1</td>\n",
       "      <td>0</td>\n",
       "      <td>0</td>\n",
       "      <td>0</td>\n",
       "      <td>0</td>\n",
       "      <td>No</td>\n",
       "      <td>0</td>\n",
       "      <td>False</td>\n",
       "      <td>6</td>\n",
       "    </tr>\n",
       "    <tr>\n",
       "      <th>5642503</th>\n",
       "      <td>558997776694438.000000</td>\n",
       "      <td>M</td>\n",
       "      <td>2016-04-29 16:08:27</td>\n",
       "      <td>2016-04-29</td>\n",
       "      <td>56</td>\n",
       "      <td>JARDIM DA PENHA</td>\n",
       "      <td>0</td>\n",
       "      <td>0</td>\n",
       "      <td>0</td>\n",
       "      <td>0</td>\n",
       "      <td>0</td>\n",
       "      <td>0</td>\n",
       "      <td>No</td>\n",
       "      <td>0</td>\n",
       "      <td>False</td>\n",
       "      <td>5</td>\n",
       "    </tr>\n",
       "    <tr>\n",
       "      <th>5642549</th>\n",
       "      <td>4262962299951.000000</td>\n",
       "      <td>F</td>\n",
       "      <td>2016-04-29 16:19:04</td>\n",
       "      <td>2016-04-29</td>\n",
       "      <td>62</td>\n",
       "      <td>MATA DA PRAIA</td>\n",
       "      <td>0</td>\n",
       "      <td>0</td>\n",
       "      <td>0</td>\n",
       "      <td>0</td>\n",
       "      <td>0</td>\n",
       "      <td>0</td>\n",
       "      <td>No</td>\n",
       "      <td>0</td>\n",
       "      <td>False</td>\n",
       "      <td>6</td>\n",
       "    </tr>\n",
       "    <tr>\n",
       "      <th>5642828</th>\n",
       "      <td>867951213174.000000</td>\n",
       "      <td>F</td>\n",
       "      <td>2016-04-29 17:29:31</td>\n",
       "      <td>2016-04-29</td>\n",
       "      <td>8</td>\n",
       "      <td>PONTAL DE CAMBURI</td>\n",
       "      <td>0</td>\n",
       "      <td>0</td>\n",
       "      <td>0</td>\n",
       "      <td>0</td>\n",
       "      <td>0</td>\n",
       "      <td>0</td>\n",
       "      <td>No</td>\n",
       "      <td>0</td>\n",
       "      <td>False</td>\n",
       "      <td>0</td>\n",
       "    </tr>\n",
       "    <tr>\n",
       "      <th>5642494</th>\n",
       "      <td>8841186448183.000000</td>\n",
       "      <td>F</td>\n",
       "      <td>2016-04-29 16:07:23</td>\n",
       "      <td>2016-04-29</td>\n",
       "      <td>56</td>\n",
       "      <td>JARDIM DA PENHA</td>\n",
       "      <td>0</td>\n",
       "      <td>1</td>\n",
       "      <td>1</td>\n",
       "      <td>0</td>\n",
       "      <td>0</td>\n",
       "      <td>0</td>\n",
       "      <td>No</td>\n",
       "      <td>0</td>\n",
       "      <td>False</td>\n",
       "      <td>5</td>\n",
       "    </tr>\n",
       "  </tbody>\n",
       "</table>\n",
       "</div>"
      ],
      "text/plain": [
       "                           patient_ID gender       scheduled_day  \\\n",
       "appointment_ID                                                     \n",
       "5642903         29872499824296.000000      F 2016-04-29 18:38:08   \n",
       "5642503        558997776694438.000000      M 2016-04-29 16:08:27   \n",
       "5642549          4262962299951.000000      F 2016-04-29 16:19:04   \n",
       "5642828           867951213174.000000      F 2016-04-29 17:29:31   \n",
       "5642494          8841186448183.000000      F 2016-04-29 16:07:23   \n",
       "\n",
       "               appointment_day  age      neighbourhood  scholarship  \\\n",
       "appointment_ID                                                        \n",
       "5642903             2016-04-29   62    JARDIM DA PENHA            0   \n",
       "5642503             2016-04-29   56    JARDIM DA PENHA            0   \n",
       "5642549             2016-04-29   62      MATA DA PRAIA            0   \n",
       "5642828             2016-04-29    8  PONTAL DE CAMBURI            0   \n",
       "5642494             2016-04-29   56    JARDIM DA PENHA            0   \n",
       "\n",
       "                hypertension  diabetes  alcoholism  handicap  SMS_received  \\\n",
       "appointment_ID                                                               \n",
       "5642903                    1         0           0         0             0   \n",
       "5642503                    0         0           0         0             0   \n",
       "5642549                    0         0           0         0             0   \n",
       "5642828                    0         0           0         0             0   \n",
       "5642494                    1         1           0         0             0   \n",
       "\n",
       "               no_show  lead_days  is_handicapped  age_group  \n",
       "appointment_ID                                                \n",
       "5642903             No          0           False          6  \n",
       "5642503             No          0           False          5  \n",
       "5642549             No          0           False          6  \n",
       "5642828             No          0           False          0  \n",
       "5642494             No          0           False          5  "
      ]
     },
     "execution_count": 144,
     "metadata": {},
     "output_type": "execute_result"
    }
   ],
   "source": [
    "show_df = df2[df2['no_show']=='No']\n",
    "show_df.head()"
   ]
  },
  {
   "cell_type": "code",
   "execution_count": 145,
   "metadata": {},
   "outputs": [
    {
     "data": {
      "text/html": [
       "<div>\n",
       "<style>\n",
       "    .dataframe thead tr:only-child th {\n",
       "        text-align: right;\n",
       "    }\n",
       "\n",
       "    .dataframe thead th {\n",
       "        text-align: left;\n",
       "    }\n",
       "\n",
       "    .dataframe tbody tr th {\n",
       "        vertical-align: top;\n",
       "    }\n",
       "</style>\n",
       "<table border=\"1\" class=\"dataframe\">\n",
       "  <thead>\n",
       "    <tr style=\"text-align: right;\">\n",
       "      <th></th>\n",
       "      <th>patient_ID</th>\n",
       "      <th>gender</th>\n",
       "      <th>scheduled_day</th>\n",
       "      <th>appointment_day</th>\n",
       "      <th>age</th>\n",
       "      <th>neighbourhood</th>\n",
       "      <th>scholarship</th>\n",
       "      <th>hypertension</th>\n",
       "      <th>diabetes</th>\n",
       "      <th>alcoholism</th>\n",
       "      <th>handicap</th>\n",
       "      <th>SMS_received</th>\n",
       "      <th>no_show</th>\n",
       "      <th>lead_days</th>\n",
       "      <th>is_handicapped</th>\n",
       "      <th>age_group</th>\n",
       "    </tr>\n",
       "    <tr>\n",
       "      <th>appointment_ID</th>\n",
       "      <th></th>\n",
       "      <th></th>\n",
       "      <th></th>\n",
       "      <th></th>\n",
       "      <th></th>\n",
       "      <th></th>\n",
       "      <th></th>\n",
       "      <th></th>\n",
       "      <th></th>\n",
       "      <th></th>\n",
       "      <th></th>\n",
       "      <th></th>\n",
       "      <th></th>\n",
       "      <th></th>\n",
       "      <th></th>\n",
       "      <th></th>\n",
       "    </tr>\n",
       "  </thead>\n",
       "  <tbody>\n",
       "    <tr>\n",
       "      <th>5630279</th>\n",
       "      <td>733688164476661.000000</td>\n",
       "      <td>F</td>\n",
       "      <td>2016-04-27 15:05:12</td>\n",
       "      <td>2016-04-29</td>\n",
       "      <td>23</td>\n",
       "      <td>GOIABEIRAS</td>\n",
       "      <td>0</td>\n",
       "      <td>0</td>\n",
       "      <td>0</td>\n",
       "      <td>0</td>\n",
       "      <td>0</td>\n",
       "      <td>0</td>\n",
       "      <td>Yes</td>\n",
       "      <td>2</td>\n",
       "      <td>False</td>\n",
       "      <td>2</td>\n",
       "    </tr>\n",
       "    <tr>\n",
       "      <th>5630575</th>\n",
       "      <td>3449833394123.000000</td>\n",
       "      <td>F</td>\n",
       "      <td>2016-04-27 15:39:58</td>\n",
       "      <td>2016-04-29</td>\n",
       "      <td>39</td>\n",
       "      <td>GOIABEIRAS</td>\n",
       "      <td>0</td>\n",
       "      <td>0</td>\n",
       "      <td>0</td>\n",
       "      <td>0</td>\n",
       "      <td>0</td>\n",
       "      <td>0</td>\n",
       "      <td>Yes</td>\n",
       "      <td>2</td>\n",
       "      <td>False</td>\n",
       "      <td>3</td>\n",
       "    </tr>\n",
       "    <tr>\n",
       "      <th>5620163</th>\n",
       "      <td>7542951368435.000000</td>\n",
       "      <td>M</td>\n",
       "      <td>2016-04-26 08:44:12</td>\n",
       "      <td>2016-04-29</td>\n",
       "      <td>29</td>\n",
       "      <td>NOVA PALESTINA</td>\n",
       "      <td>0</td>\n",
       "      <td>0</td>\n",
       "      <td>0</td>\n",
       "      <td>0</td>\n",
       "      <td>0</td>\n",
       "      <td>1</td>\n",
       "      <td>Yes</td>\n",
       "      <td>3</td>\n",
       "      <td>False</td>\n",
       "      <td>2</td>\n",
       "    </tr>\n",
       "    <tr>\n",
       "      <th>5633460</th>\n",
       "      <td>14794966191172.000000</td>\n",
       "      <td>F</td>\n",
       "      <td>2016-04-28 09:28:57</td>\n",
       "      <td>2016-04-29</td>\n",
       "      <td>40</td>\n",
       "      <td>CONQUISTA</td>\n",
       "      <td>1</td>\n",
       "      <td>0</td>\n",
       "      <td>0</td>\n",
       "      <td>0</td>\n",
       "      <td>0</td>\n",
       "      <td>0</td>\n",
       "      <td>Yes</td>\n",
       "      <td>1</td>\n",
       "      <td>False</td>\n",
       "      <td>4</td>\n",
       "    </tr>\n",
       "    <tr>\n",
       "      <th>5626083</th>\n",
       "      <td>622257462899397.000000</td>\n",
       "      <td>F</td>\n",
       "      <td>2016-04-27 07:51:14</td>\n",
       "      <td>2016-04-29</td>\n",
       "      <td>30</td>\n",
       "      <td>NOVA PALESTINA</td>\n",
       "      <td>0</td>\n",
       "      <td>0</td>\n",
       "      <td>0</td>\n",
       "      <td>0</td>\n",
       "      <td>0</td>\n",
       "      <td>0</td>\n",
       "      <td>Yes</td>\n",
       "      <td>2</td>\n",
       "      <td>False</td>\n",
       "      <td>3</td>\n",
       "    </tr>\n",
       "  </tbody>\n",
       "</table>\n",
       "</div>"
      ],
      "text/plain": [
       "                           patient_ID gender       scheduled_day  \\\n",
       "appointment_ID                                                     \n",
       "5630279        733688164476661.000000      F 2016-04-27 15:05:12   \n",
       "5630575          3449833394123.000000      F 2016-04-27 15:39:58   \n",
       "5620163          7542951368435.000000      M 2016-04-26 08:44:12   \n",
       "5633460         14794966191172.000000      F 2016-04-28 09:28:57   \n",
       "5626083        622257462899397.000000      F 2016-04-27 07:51:14   \n",
       "\n",
       "               appointment_day  age   neighbourhood  scholarship  \\\n",
       "appointment_ID                                                     \n",
       "5630279             2016-04-29   23      GOIABEIRAS            0   \n",
       "5630575             2016-04-29   39      GOIABEIRAS            0   \n",
       "5620163             2016-04-29   29  NOVA PALESTINA            0   \n",
       "5633460             2016-04-29   40       CONQUISTA            1   \n",
       "5626083             2016-04-29   30  NOVA PALESTINA            0   \n",
       "\n",
       "                hypertension  diabetes  alcoholism  handicap  SMS_received  \\\n",
       "appointment_ID                                                               \n",
       "5630279                    0         0           0         0             0   \n",
       "5630575                    0         0           0         0             0   \n",
       "5620163                    0         0           0         0             1   \n",
       "5633460                    0         0           0         0             0   \n",
       "5626083                    0         0           0         0             0   \n",
       "\n",
       "               no_show  lead_days  is_handicapped  age_group  \n",
       "appointment_ID                                                \n",
       "5630279            Yes          2           False          2  \n",
       "5630575            Yes          2           False          3  \n",
       "5620163            Yes          3           False          2  \n",
       "5633460            Yes          1           False          4  \n",
       "5626083            Yes          2           False          3  "
      ]
     },
     "execution_count": 145,
     "metadata": {},
     "output_type": "execute_result"
    }
   ],
   "source": [
    "no_show_df = df2[df2['no_show']=='Yes']\n",
    "no_show_df.head()"
   ]
  },
  {
   "cell_type": "code",
   "execution_count": 146,
   "metadata": {},
   "outputs": [
    {
     "name": "stdout",
     "output_type": "stream",
     "text": [
      "88207 22314\n",
      "25698\n",
      "9784\n",
      "0.2913374222\n",
      "0.438469122524\n"
     ]
    },
    {
     "data": {
      "image/png": "[encoded data removed]",
      "text/plain": [
       "<matplotlib.figure.Figure at 0x7fa46172b4a8>"
      ]
     },
     "metadata": {
      "needs_background": "light"
     },
     "output_type": "display_data"
    }
   ],
   "source": [
    "#size of no_show appointments and show dataframes.\n",
    "print(show_df.shape[0],no_show_df.shape[0])\n",
    "#no. of appointments in wich sms was recieved and\n",
    "# 1. patients did show up.\n",
    "print(show_df[show_df['SMS_received']==1]['age'].count())\n",
    "# 2. patients did not show up\n",
    "print(no_show_df[no_show_df['SMS_received']==1]['age'].count())\n",
    "#their respective proportions.\n",
    "sms_prop_show = (show_df[show_df['SMS_received']==1]['age'].count())/(show_df.shape[0])\n",
    "print(sms_prop_show)\n",
    "sms_prop_no_show= (no_show_df[no_show_df['SMS_received']==1]['age'].count())/(no_show_df.shape[0])\n",
    "print(sms_prop_no_show)\n",
    "\n",
    "plt.bar([1,2], [sms_prop_show,sms_prop_no_show ], tick_label=['show', 'no-show'])\n",
    "plt.title('Proportions of SMSed  showing patients vs. SMSed non showing patients')\n",
    "plt.xlabel('Appointment Status', size=12)\n",
    "plt.ylabel('Proportions of sms received', size =11);"
   ]
  },
  {
   "cell_type": "markdown",
   "metadata": {},
   "source": [
    "Surprisingly, the patients who did not receive sms regarding their appointment have higher proportion of patients showing up for their appointment. Or there is a better relation of sms with another feature which is interlinked with No show more strongly. "
   ]
  },
  {
   "cell_type": "markdown",
   "metadata": {},
   "source": [
    "### Is there any relationship between SMS_received and lead_days?"
   ]
  },
  {
   "cell_type": "code",
   "execution_count": 147,
   "metadata": {},
   "outputs": [
    {
     "data": {
      "image/png": "[encoded data removed]",
      "text/plain": [
       "<matplotlib.figure.Figure at 0x7fa46162e860>"
      ]
     },
     "metadata": {
      "needs_background": "light"
     },
     "output_type": "display_data"
    },
    {
     "name": "stdout",
     "output_type": "stream",
     "text": [
      "Proportion of SMS_received for lead_days > 30\n",
      "0.617652726922\n"
     ]
    }
   ],
   "source": [
    "# Create a line plot of SMS_received by lead_days, up to lead_days == 30\n",
    "# then print the number for the rest of the data so that they don't obscure\n",
    "# the focus.\n",
    "x = df.groupby('lead_days')['SMS_received'].mean()[:31].index\n",
    "y = df.groupby('lead_days')['SMS_received'].mean()[:31].values\n",
    "plt.plot(x,y, 'bo')\n",
    "plt.plot(x,y)\n",
    "plt.title('Proportion of SMS_received by lead_days')\n",
    "plt.xlabel('lead_days')\n",
    "plt.ylabel('Proportion of SMS_received')\n",
    "plt.show()\n",
    "\n",
    "print('Proportion of SMS_received for lead_days > 30')\n",
    "print(df[df.lead_days > 30]['SMS_received'].mean())"
   ]
  },
  {
   "cell_type": "markdown",
   "metadata": {},
   "source": [
    "If the appointment is 2 days away or sooner from the time it was scheduled, none of the patients received an SMS message. Starting from lead_days == 3, we start to see some True values in SMS_received. But the ratio of SMS_received plateaus only at lead_days == 4 (or arguably 5).\n",
    "\n",
    "As lead_days has a strong relationship with no_show, and SMS_received is very much related to lead_days when lead_days < 4, we must be careful when trying to establish a causal relationship between SMS_received and no_show.\n",
    "\n",
    "Next we'll take only the records where lead_days > 3, and see if those who received the SMS reminder have a different no-show rate from those who didn't."
   ]
  },
  {
   "cell_type": "code",
   "execution_count": 148,
   "metadata": {},
   "outputs": [
    {
     "name": "stdout",
     "output_type": "stream",
     "text": [
      "40121 17163\n",
      "24985\n",
      "9591\n",
      "0.622741207846\n",
      "0.558818388394\n"
     ]
    },
    {
     "data": {
      "image/png": "[encoded data removed]",
      "text/plain": [
       "<matplotlib.figure.Figure at 0x7fa462312b38>"
      ]
     },
     "metadata": {
      "needs_background": "light"
     },
     "output_type": "display_data"
    }
   ],
   "source": [
    "lead_days_3 = df[df.lead_days > 3]\n",
    "# we create 2 new dataframes representing the show appointments and no show appointments\n",
    "new_no_show_df = lead_days_3[lead_days_3['no_show']=='Yes']\n",
    "new_no_show_df.head()\n",
    "\n",
    "new_show_df = lead_days_3[lead_days_3['no_show']=='No']\n",
    "new_show_df.head()\n",
    "#size of no_show_\n",
    "print(new_show_df.shape[0],new_no_show_df.shape[0])\n",
    "#no. of appointments in wich sms was recieved and\n",
    "# 1. patients did show up.\n",
    "print(new_show_df[new_show_df['SMS_received']==1]['age'].count())\n",
    "# 2. patients did not show up\n",
    "print(new_no_show_df[new_no_show_df['SMS_received']==1]['age'].count())\n",
    "#their respective proportions.\n",
    "new_sms_prop_show = (new_show_df[new_show_df['SMS_received']==1]['age'].count())/(new_show_df.shape[0])\n",
    "print(new_sms_prop_show)\n",
    "new_sms_prop_no_show= (new_no_show_df[new_no_show_df['SMS_received']==1]['age'].count())/(new_no_show_df.shape[0])\n",
    "print(new_sms_prop_no_show)\n",
    "\n",
    "plt.bar([1,2], [new_sms_prop_show,new_sms_prop_no_show ], tick_label=['show', 'no-show'])\n",
    "plt.title('Proportions of SMSed  showing patients vs. SMSed non showing patients')\n",
    "plt.xlabel('Appointment Status', size=12)\n",
    "plt.ylabel('Proportions of sms received', size =11);"
   ]
  },
  {
   "cell_type": "markdown",
   "metadata": {},
   "source": [
    "A few other columns, such as alcoholism and scholarship, also seem to show patterns of their proportions varying with lead_days when lead_days are small (not shown here). Although these patterns are not as strong as that between SMS_received and lead_days."
   ]
  },
  {
   "cell_type": "markdown",
   "metadata": {},
   "source": [
    "### Does age affect the decision of patients not to show up for appointment?"
   ]
  },
  {
   "cell_type": "code",
   "execution_count": 149,
   "metadata": {
    "scrolled": true
   },
   "outputs": [
    {
     "data": {
      "image/png": "[encoded data removed]",
      "text/plain": [
       "<matplotlib.figure.Figure at 0x7fa4617b8320>"
      ]
     },
     "metadata": {
      "needs_background": "light"
     },
     "output_type": "display_data"
    }
   ],
   "source": [
    "fig, ax= plt.subplots(figsize=(8,6))\n",
    "ax.hist(show_df['age'], alpha=0.5, label= 'show')\n",
    "ax.hist(no_show_df['age'], alpha=0.5, label= 'no_show')\n",
    "ax.set_title('Age distribution of patients')\n",
    "ax.set_xlabel('Age')\n",
    "ax.set_ylabel('No. of appointments')\n",
    "ax.legend(loc='upper right')\n",
    "plt.show()"
   ]
  },
  {
   "cell_type": "markdown",
   "metadata": {},
   "source": [
    "We see that show up rates of young children(age 0 to 9) are way more than that of teenagers.\n",
    "This is not followed in no show rates i.e. if not more than 50 years the age of patients does not matter much when they don't show up. Both distributions tend to decrease after 60."
   ]
  },
  {
   "cell_type": "markdown",
   "metadata": {},
   "source": [
    "### Does Scholarship effect Patient's decision to show up for appointmnet?\n",
    "We use the same show_df and no_show_df we used above."
   ]
  },
  {
   "cell_type": "code",
   "execution_count": 150,
   "metadata": {},
   "outputs": [
    {
     "data": {
      "text/plain": [
       "0    19736\n",
       "1     2578\n",
       "Name: scholarship, dtype: int64"
      ]
     },
     "execution_count": 150,
     "metadata": {},
     "output_type": "execute_result"
    }
   ],
   "source": [
    "no_show_df['scholarship'].value_counts()"
   ]
  },
  {
   "cell_type": "code",
   "execution_count": 151,
   "metadata": {},
   "outputs": [
    {
     "name": "stdout",
     "output_type": "stream",
     "text": [
      "2578\n",
      "22314\n",
      "0.115532849332\n"
     ]
    }
   ],
   "source": [
    "#we will find the proportion of people who recieved scholarship but did not show up\n",
    "\n",
    "srn = no_show_df[no_show_df['scholarship']==1]['age'].count() # scholarship received no show\n",
    "print(srn)\n",
    "total_no_show= no_show_df['age'].count()\n",
    "print(total_no_show)\n",
    "srn_propn = srn/total_no_show\n",
    "print(srn_propn)\n"
   ]
  },
  {
   "cell_type": "code",
   "execution_count": 152,
   "metadata": {},
   "outputs": [
    {
     "name": "stdout",
     "output_type": "stream",
     "text": [
      "8283\n",
      "88207\n",
      "0.0939041119186\n"
     ]
    }
   ],
   "source": [
    "#we will find the proportion of people who recieved scholarship and showed up\n",
    "\n",
    "srs = show_df[show_df['scholarship']==1]['age'].count() # scholarship received  show up\n",
    "print(srs)\n",
    "total_show= show_df['age'].count()\n",
    "print(total_show)\n",
    "srs_propn = srs/total_show\n",
    "print(srs_propn)\n"
   ]
  },
  {
   "cell_type": "code",
   "execution_count": 153,
   "metadata": {},
   "outputs": [
    {
     "data": {
      "text/plain": [
       "<Container object of 2 artists>"
      ]
     },
     "execution_count": 153,
     "metadata": {},
     "output_type": "execute_result"
    },
    {
     "data": {
      "image/png": "[encoded data removed]",
      "text/plain": [
       "<matplotlib.figure.Figure at 0x7fa46172bf98>"
      ]
     },
     "metadata": {
      "needs_background": "light"
     },
     "output_type": "display_data"
    }
   ],
   "source": [
    "plt.bar([1,2], [srn_propn, srs_propn], tick_label= ['no_show','show'] )\n"
   ]
  },
  {
   "cell_type": "markdown",
   "metadata": {},
   "source": [
    "We can see that the no_show rates have higher proportion of patients with scolarships."
   ]
  },
  {
   "cell_type": "markdown",
   "metadata": {},
   "source": [
    "<a id='conclusions'></a>\n",
    "## Conclusions\n",
    "> **Conclusions**\n",
    ">>1. Female patients make up almost two thirds of the visits.It might be that women are more concerned of their body then men are.\n",
    ">>2. We see that young children(age group 0, age b/w 0 to 9) are more likely to make appointments than teenagers(age group 2 and 3) and young adults. This might be because parents take good care of their young children and appointments are generally made by them.Also Older people above age 60, as they grow older tend to make less appointments.\n",
    ">>3. Lead days are strongly correlated with SMS received.If the appointment is 2 days away or sooner from the time it was scheduled, none of the patients received an SMS message. Starting from lead_days == 3, we start to see some True values in SMS_received. But the ratio of SMS_received plateaus only at lead_days == 4 (or arguably 5).\n",
    ">>4. When Lead Days are removed patients who received sms showed up more than those who did not.\n",
    ">>5.We see that show up rates of young children(age 0 to 9) are way more than that of teenagers. This is not followed in no show rates i.e. if not more than 50 years the age of patients does not matter much when they don't show up. Both distributions tend to decrease after 60.\n",
    ">>6. We see that people who did not show up have higher proportions of patients with scholarships than those who did show up. This does not add up and may be scholarships are correlated with other feture which is better related to no show.\n",
    "\n",
    ">The investigation carried out in this study is exploratory and is meant to provide insights for further analysis. A few of the limitations of this study are:\n",
    "\n",
    "    1. Interrelationship between features are not sufficiently investigated. Multicollinearity is not accounted for.\n",
    "    2. Some features may have a non-linear relationship with no_show and we have barely looked at that.\n",
    "    3. It lacks the precision a statistical model can give us, in the magnitude of each of the feature coefficients and in the overall predictive power of the model.\n",
    "\n",
    "Therefore the findings should not be interpreted as a predictive model, or any other means to make predictions.\n",
    "\n",
    "## Submitting your Project \n",
    "\n",
    "> Before you submit your project, you need to create a .html or .pdf version of this notebook in the workspace here. To do that, run the code cell below. If it worked correctly, you should get a return code of 0, and you should see the generated .html file in the workspace directory (click on the orange Jupyter icon in the upper left).\n",
    "\n",
    "> Alternatively, you can download this report as .html via the **File** > **Download as** submenu, and then manually upload it into the workspace directory by clicking on the orange Jupyter icon in the upper left, then using the Upload button.\n",
    "\n",
    "> Once you've done this, you can submit your project by clicking on the \"Submit Project\" button in the lower right here. This will create and submit a zip file with this .ipynb doc and the .html or .pdf version you created. Congratulations!"
   ]
  },
  {
   "cell_type": "code",
   "execution_count": null,
   "metadata": {
    "collapsed": true
   },
   "outputs": [],
   "source": [
    "from subprocess import call\n",
    "call(['python', '-m', 'nbconvert', 'Investigate_a_Dataset.ipynb'])"
   ]
  }
 ],
 "metadata": {
  "kernelspec": {
   "display_name": "Python 3",
   "language": "python",
   "name": "python3"
  },
  "language_info": {
   "codemirror_mode": {
    "name": "ipython",
    "version": 3
   },
   "file_extension": ".py",
   "mimetype": "text/x-python",
   "name": "python",
   "nbconvert_exporter": "python",
   "pygments_lexer": "ipython3",
   "version": "3.6.3"
  }
 },
 "nbformat": 4,
 "nbformat_minor": 2
}
